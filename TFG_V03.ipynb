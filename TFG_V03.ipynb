{
 "cells": [
  {
   "cell_type": "code",
   "execution_count": 1,
   "id": "b241082e",
   "metadata": {},
   "outputs": [],
   "source": [
    "import numpy as np\n",
    "import pandas as pd"
   ]
  },
  {
   "cell_type": "code",
   "execution_count": 2,
   "id": "6d433dbc",
   "metadata": {},
   "outputs": [],
   "source": [
    "import matplotlib.pyplot as plt\n",
    "from matplotlib.colors import ListedColormap\n",
    "import matplotlib.patches as mpatches\n",
    "import seaborn as sb"
   ]
  },
  {
   "cell_type": "code",
   "execution_count": 3,
   "id": "88083ada",
   "metadata": {},
   "outputs": [],
   "source": [
    "from sklearn.model_selection import train_test_split\n",
    "from sklearn.preprocessing import MinMaxScaler\n",
    "from sklearn.neighbors import KNeighborsClassifier\n",
    "from sklearn.metrics import classification_report\n",
    "from sklearn.metrics import confusion_matrix\n",
    "from sklearn.model_selection import cross_val_score\n",
    "from sklearn.ensemble import RandomForestClassifier"
   ]
  },
  {
   "cell_type": "code",
   "execution_count": 4,
   "id": "e835daf6",
   "metadata": {},
   "outputs": [
    {
     "data": {
      "text/html": [
       "<div>\n",
       "<style scoped>\n",
       "    .dataframe tbody tr th:only-of-type {\n",
       "        vertical-align: middle;\n",
       "    }\n",
       "\n",
       "    .dataframe tbody tr th {\n",
       "        vertical-align: top;\n",
       "    }\n",
       "\n",
       "    .dataframe thead th {\n",
       "        text-align: right;\n",
       "    }\n",
       "</style>\n",
       "<table border=\"1\" class=\"dataframe\">\n",
       "  <thead>\n",
       "    <tr style=\"text-align: right;\">\n",
       "      <th></th>\n",
       "      <th>num_expediente</th>\n",
       "      <th>fecha</th>\n",
       "      <th>hora</th>\n",
       "      <th>localizacion</th>\n",
       "      <th>numero</th>\n",
       "      <th>cod_distrito</th>\n",
       "      <th>distrito</th>\n",
       "      <th>tipo_accidente</th>\n",
       "      <th>estado_meteorológico</th>\n",
       "      <th>tipo_vehículo</th>\n",
       "      <th>tipo_persona</th>\n",
       "      <th>rango_edad</th>\n",
       "      <th>sexo</th>\n",
       "      <th>cod_lesividad</th>\n",
       "      <th>lesividad</th>\n",
       "      <th>coordenada_x_utm</th>\n",
       "      <th>coordenada_y_utm</th>\n",
       "      <th>positiva_alcohol</th>\n",
       "      <th>positiva_droga</th>\n",
       "      <th>tipo_vehiculo</th>\n",
       "    </tr>\n",
       "  </thead>\n",
       "  <tbody>\n",
       "    <tr>\n",
       "      <th>0</th>\n",
       "      <td>2020S000044</td>\n",
       "      <td>2020-01-02</td>\n",
       "      <td>07:30:00</td>\n",
       "      <td>CALL. ALBASANZ / CALL. RUFINO GONZALEZ</td>\n",
       "      <td>23</td>\n",
       "      <td>20.0</td>\n",
       "      <td>SAN BLAS-CANILLEJAS</td>\n",
       "      <td>Colisión frontal</td>\n",
       "      <td>Despejado</td>\n",
       "      <td>Bicicleta</td>\n",
       "      <td>Conductor</td>\n",
       "      <td>De 40 a 44 años</td>\n",
       "      <td>Hombre</td>\n",
       "      <td>7</td>\n",
       "      <td>Asistencia sanitaria sólo en el lugar del acci...</td>\n",
       "      <td>4.468640e+08</td>\n",
       "      <td>4.476526e+09</td>\n",
       "      <td>N</td>\n",
       "      <td>NaN</td>\n",
       "      <td>NaN</td>\n",
       "    </tr>\n",
       "    <tr>\n",
       "      <th>1</th>\n",
       "      <td>2020S000151</td>\n",
       "      <td>2020-01-04</td>\n",
       "      <td>13:45:00</td>\n",
       "      <td>CALL. ORENSE, 12</td>\n",
       "      <td>12</td>\n",
       "      <td>6.0</td>\n",
       "      <td>TETUÁN</td>\n",
       "      <td>Caída</td>\n",
       "      <td>Despejado</td>\n",
       "      <td>Bicicleta</td>\n",
       "      <td>Conductor</td>\n",
       "      <td>De 21 a 24 años</td>\n",
       "      <td>Hombre</td>\n",
       "      <td>7</td>\n",
       "      <td>Asistencia sanitaria sólo en el lugar del acci...</td>\n",
       "      <td>4.410475e+08</td>\n",
       "      <td>4.477835e+09</td>\n",
       "      <td>N</td>\n",
       "      <td>NaN</td>\n",
       "      <td>NaN</td>\n",
       "    </tr>\n",
       "    <tr>\n",
       "      <th>2</th>\n",
       "      <td>2020S000153</td>\n",
       "      <td>2020-01-04</td>\n",
       "      <td>12:10:00</td>\n",
       "      <td>CALL. NUESTRA SEÑORA DE VALVERDE, 209</td>\n",
       "      <td>209</td>\n",
       "      <td>8.0</td>\n",
       "      <td>FUENCARRAL-EL PARDO</td>\n",
       "      <td>Colisión múltiple</td>\n",
       "      <td>Despejado</td>\n",
       "      <td>Bicicleta</td>\n",
       "      <td>Conductor</td>\n",
       "      <td>De 10 a 14 años</td>\n",
       "      <td>Hombre</td>\n",
       "      <td>1</td>\n",
       "      <td>Atención en urgencias sin posterior ingreso</td>\n",
       "      <td>4.419754e+08</td>\n",
       "      <td>4.484542e+09</td>\n",
       "      <td>N</td>\n",
       "      <td>NaN</td>\n",
       "      <td>NaN</td>\n",
       "    </tr>\n",
       "    <tr>\n",
       "      <th>3</th>\n",
       "      <td>2020S000153</td>\n",
       "      <td>2020-01-04</td>\n",
       "      <td>12:10:00</td>\n",
       "      <td>CALL. NUESTRA SEÑORA DE VALVERDE, 209</td>\n",
       "      <td>209</td>\n",
       "      <td>8.0</td>\n",
       "      <td>FUENCARRAL-EL PARDO</td>\n",
       "      <td>Colisión múltiple</td>\n",
       "      <td>Despejado</td>\n",
       "      <td>Bicicleta</td>\n",
       "      <td>Conductor</td>\n",
       "      <td>De 45 a 49 años</td>\n",
       "      <td>Hombre</td>\n",
       "      <td>2</td>\n",
       "      <td>Ingreso inferior o igual a 24 horas</td>\n",
       "      <td>4.419754e+08</td>\n",
       "      <td>4.484542e+09</td>\n",
       "      <td>N</td>\n",
       "      <td>NaN</td>\n",
       "      <td>NaN</td>\n",
       "    </tr>\n",
       "    <tr>\n",
       "      <th>4</th>\n",
       "      <td>2020S000212</td>\n",
       "      <td>2020-01-04</td>\n",
       "      <td>13:30:00</td>\n",
       "      <td>M-605, KM 1,600 SOMONTES (CAMINO)</td>\n",
       "      <td>20</td>\n",
       "      <td>8.0</td>\n",
       "      <td>FUENCARRAL-EL PARDO</td>\n",
       "      <td>Caída</td>\n",
       "      <td>Despejado</td>\n",
       "      <td>Bicicleta</td>\n",
       "      <td>Conductor</td>\n",
       "      <td>De 35 a 39 años</td>\n",
       "      <td>Hombre</td>\n",
       "      <td>6</td>\n",
       "      <td>Asistencia sanitaria inmediata en centro de sa...</td>\n",
       "      <td>4.391659e+08</td>\n",
       "      <td>4.484558e+09</td>\n",
       "      <td>N</td>\n",
       "      <td>NaN</td>\n",
       "      <td>NaN</td>\n",
       "    </tr>\n",
       "    <tr>\n",
       "      <th>...</th>\n",
       "      <td>...</td>\n",
       "      <td>...</td>\n",
       "      <td>...</td>\n",
       "      <td>...</td>\n",
       "      <td>...</td>\n",
       "      <td>...</td>\n",
       "      <td>...</td>\n",
       "      <td>...</td>\n",
       "      <td>...</td>\n",
       "      <td>...</td>\n",
       "      <td>...</td>\n",
       "      <td>...</td>\n",
       "      <td>...</td>\n",
       "      <td>...</td>\n",
       "      <td>...</td>\n",
       "      <td>...</td>\n",
       "      <td>...</td>\n",
       "      <td>...</td>\n",
       "      <td>...</td>\n",
       "      <td>...</td>\n",
       "    </tr>\n",
       "    <tr>\n",
       "      <th>12183</th>\n",
       "      <td>2023S013443</td>\n",
       "      <td>2023-03-31</td>\n",
       "      <td>13:30:00</td>\n",
       "      <td>CALL. MENDEZ ALVARO / CALL. RETAMA</td>\n",
       "      <td>93</td>\n",
       "      <td>13.0</td>\n",
       "      <td>PUENTE DE VALLECAS</td>\n",
       "      <td>Alcance</td>\n",
       "      <td>Despejado</td>\n",
       "      <td>NaN</td>\n",
       "      <td>Conductor</td>\n",
       "      <td>De 25 a 29 años</td>\n",
       "      <td>Hombre</td>\n",
       "      <td>14</td>\n",
       "      <td>Sin asistencia sanitaria</td>\n",
       "      <td>4.425613e+05</td>\n",
       "      <td>4.471591e+06</td>\n",
       "      <td>N</td>\n",
       "      <td>NaN</td>\n",
       "      <td>Motocicleta hasta 125cc</td>\n",
       "    </tr>\n",
       "    <tr>\n",
       "      <th>12184</th>\n",
       "      <td>2023S013443</td>\n",
       "      <td>2023-03-31</td>\n",
       "      <td>13:30:00</td>\n",
       "      <td>CALL. MENDEZ ALVARO / CALL. RETAMA</td>\n",
       "      <td>93</td>\n",
       "      <td>13.0</td>\n",
       "      <td>PUENTE DE VALLECAS</td>\n",
       "      <td>Alcance</td>\n",
       "      <td>Despejado</td>\n",
       "      <td>NaN</td>\n",
       "      <td>Conductor</td>\n",
       "      <td>De 40 a 44 años</td>\n",
       "      <td>Hombre</td>\n",
       "      <td>7</td>\n",
       "      <td>Asistencia sanitaria sólo en el lugar del acci...</td>\n",
       "      <td>4.425613e+05</td>\n",
       "      <td>4.471591e+06</td>\n",
       "      <td>N</td>\n",
       "      <td>NaN</td>\n",
       "      <td>Turismo</td>\n",
       "    </tr>\n",
       "    <tr>\n",
       "      <th>12185</th>\n",
       "      <td>2023S013443</td>\n",
       "      <td>2023-03-31</td>\n",
       "      <td>13:30:00</td>\n",
       "      <td>CALL. MENDEZ ALVARO / CALL. RETAMA</td>\n",
       "      <td>93</td>\n",
       "      <td>13.0</td>\n",
       "      <td>PUENTE DE VALLECAS</td>\n",
       "      <td>Alcance</td>\n",
       "      <td>Despejado</td>\n",
       "      <td>NaN</td>\n",
       "      <td>Pasajero</td>\n",
       "      <td>De 40 a 44 años</td>\n",
       "      <td>Mujer</td>\n",
       "      <td>14</td>\n",
       "      <td>Sin asistencia sanitaria</td>\n",
       "      <td>4.425613e+05</td>\n",
       "      <td>4.471591e+06</td>\n",
       "      <td>N</td>\n",
       "      <td>NaN</td>\n",
       "      <td>Turismo</td>\n",
       "    </tr>\n",
       "    <tr>\n",
       "      <th>12186</th>\n",
       "      <td>2023S014588</td>\n",
       "      <td>2023-03-17</td>\n",
       "      <td>11:50:00</td>\n",
       "      <td>PASEO. CASTELLANA / CUZCO</td>\n",
       "      <td>162</td>\n",
       "      <td>5.0</td>\n",
       "      <td>CHAMARTÍN</td>\n",
       "      <td>Alcance</td>\n",
       "      <td>Despejado</td>\n",
       "      <td>NaN</td>\n",
       "      <td>Conductor</td>\n",
       "      <td>Desconocido</td>\n",
       "      <td>Desconocido</td>\n",
       "      <td>7</td>\n",
       "      <td>Asistencia sanitaria sólo en el lugar del acci...</td>\n",
       "      <td>4.414998e+05</td>\n",
       "      <td>4.478870e+06</td>\n",
       "      <td>N</td>\n",
       "      <td>NaN</td>\n",
       "      <td>NaN</td>\n",
       "    </tr>\n",
       "    <tr>\n",
       "      <th>12187</th>\n",
       "      <td>2023S014588</td>\n",
       "      <td>2023-03-17</td>\n",
       "      <td>11:50:00</td>\n",
       "      <td>PASEO. CASTELLANA / CUZCO</td>\n",
       "      <td>162</td>\n",
       "      <td>5.0</td>\n",
       "      <td>CHAMARTÍN</td>\n",
       "      <td>Alcance</td>\n",
       "      <td>Despejado</td>\n",
       "      <td>NaN</td>\n",
       "      <td>Conductor</td>\n",
       "      <td>De 50 a 54 años</td>\n",
       "      <td>Hombre</td>\n",
       "      <td>14</td>\n",
       "      <td>Sin asistencia sanitaria</td>\n",
       "      <td>4.414998e+05</td>\n",
       "      <td>4.478870e+06</td>\n",
       "      <td>N</td>\n",
       "      <td>NaN</td>\n",
       "      <td>Otros vehículos con motor</td>\n",
       "    </tr>\n",
       "  </tbody>\n",
       "</table>\n",
       "<p>14840 rows × 20 columns</p>\n",
       "</div>"
      ],
      "text/plain": [
       "      num_expediente      fecha      hora  \\\n",
       "0        2020S000044 2020-01-02  07:30:00   \n",
       "1        2020S000151 2020-01-04  13:45:00   \n",
       "2        2020S000153 2020-01-04  12:10:00   \n",
       "3        2020S000153 2020-01-04  12:10:00   \n",
       "4        2020S000212 2020-01-04  13:30:00   \n",
       "...              ...        ...       ...   \n",
       "12183    2023S013443 2023-03-31  13:30:00   \n",
       "12184    2023S013443 2023-03-31  13:30:00   \n",
       "12185    2023S013443 2023-03-31  13:30:00   \n",
       "12186    2023S014588 2023-03-17  11:50:00   \n",
       "12187    2023S014588 2023-03-17  11:50:00   \n",
       "\n",
       "                                 localizacion numero  cod_distrito  \\\n",
       "0      CALL. ALBASANZ / CALL. RUFINO GONZALEZ     23          20.0   \n",
       "1                            CALL. ORENSE, 12     12           6.0   \n",
       "2       CALL. NUESTRA SEÑORA DE VALVERDE, 209    209           8.0   \n",
       "3       CALL. NUESTRA SEÑORA DE VALVERDE, 209    209           8.0   \n",
       "4           M-605, KM 1,600 SOMONTES (CAMINO)     20           8.0   \n",
       "...                                       ...    ...           ...   \n",
       "12183      CALL. MENDEZ ALVARO / CALL. RETAMA     93          13.0   \n",
       "12184      CALL. MENDEZ ALVARO / CALL. RETAMA     93          13.0   \n",
       "12185      CALL. MENDEZ ALVARO / CALL. RETAMA     93          13.0   \n",
       "12186               PASEO. CASTELLANA / CUZCO    162           5.0   \n",
       "12187               PASEO. CASTELLANA / CUZCO    162           5.0   \n",
       "\n",
       "                  distrito     tipo_accidente estado_meteorológico  \\\n",
       "0      SAN BLAS-CANILLEJAS   Colisión frontal            Despejado   \n",
       "1                   TETUÁN              Caída            Despejado   \n",
       "2      FUENCARRAL-EL PARDO  Colisión múltiple            Despejado   \n",
       "3      FUENCARRAL-EL PARDO  Colisión múltiple            Despejado   \n",
       "4      FUENCARRAL-EL PARDO              Caída            Despejado   \n",
       "...                    ...                ...                  ...   \n",
       "12183   PUENTE DE VALLECAS            Alcance            Despejado   \n",
       "12184   PUENTE DE VALLECAS            Alcance            Despejado   \n",
       "12185   PUENTE DE VALLECAS            Alcance            Despejado   \n",
       "12186            CHAMARTÍN            Alcance            Despejado   \n",
       "12187            CHAMARTÍN            Alcance            Despejado   \n",
       "\n",
       "      tipo_vehículo tipo_persona       rango_edad         sexo  cod_lesividad  \\\n",
       "0         Bicicleta    Conductor  De 40 a 44 años       Hombre              7   \n",
       "1         Bicicleta    Conductor  De 21 a 24 años       Hombre              7   \n",
       "2         Bicicleta    Conductor  De 10 a 14 años       Hombre              1   \n",
       "3         Bicicleta    Conductor  De 45 a 49 años       Hombre              2   \n",
       "4         Bicicleta    Conductor  De 35 a 39 años       Hombre              6   \n",
       "...             ...          ...              ...          ...            ...   \n",
       "12183           NaN    Conductor  De 25 a 29 años       Hombre             14   \n",
       "12184           NaN    Conductor  De 40 a 44 años       Hombre              7   \n",
       "12185           NaN     Pasajero  De 40 a 44 años        Mujer             14   \n",
       "12186           NaN    Conductor      Desconocido  Desconocido              7   \n",
       "12187           NaN    Conductor  De 50 a 54 años       Hombre             14   \n",
       "\n",
       "                                               lesividad  coordenada_x_utm  \\\n",
       "0      Asistencia sanitaria sólo en el lugar del acci...      4.468640e+08   \n",
       "1      Asistencia sanitaria sólo en el lugar del acci...      4.410475e+08   \n",
       "2            Atención en urgencias sin posterior ingreso      4.419754e+08   \n",
       "3                    Ingreso inferior o igual a 24 horas      4.419754e+08   \n",
       "4      Asistencia sanitaria inmediata en centro de sa...      4.391659e+08   \n",
       "...                                                  ...               ...   \n",
       "12183                           Sin asistencia sanitaria      4.425613e+05   \n",
       "12184  Asistencia sanitaria sólo en el lugar del acci...      4.425613e+05   \n",
       "12185                           Sin asistencia sanitaria      4.425613e+05   \n",
       "12186  Asistencia sanitaria sólo en el lugar del acci...      4.414998e+05   \n",
       "12187                           Sin asistencia sanitaria      4.414998e+05   \n",
       "\n",
       "       coordenada_y_utm positiva_alcohol  positiva_droga  \\\n",
       "0          4.476526e+09                N             NaN   \n",
       "1          4.477835e+09                N             NaN   \n",
       "2          4.484542e+09                N             NaN   \n",
       "3          4.484542e+09                N             NaN   \n",
       "4          4.484558e+09                N             NaN   \n",
       "...                 ...              ...             ...   \n",
       "12183      4.471591e+06                N             NaN   \n",
       "12184      4.471591e+06                N             NaN   \n",
       "12185      4.471591e+06                N             NaN   \n",
       "12186      4.478870e+06                N             NaN   \n",
       "12187      4.478870e+06                N             NaN   \n",
       "\n",
       "                   tipo_vehiculo  \n",
       "0                            NaN  \n",
       "1                            NaN  \n",
       "2                            NaN  \n",
       "3                            NaN  \n",
       "4                            NaN  \n",
       "...                          ...  \n",
       "12183    Motocicleta hasta 125cc  \n",
       "12184                    Turismo  \n",
       "12185                    Turismo  \n",
       "12186                        NaN  \n",
       "12187  Otros vehículos con motor  \n",
       "\n",
       "[14840 rows x 20 columns]"
      ]
     },
     "execution_count": 4,
     "metadata": {},
     "output_type": "execute_result"
    }
   ],
   "source": [
    "bicisXcel20 = pd.read_excel('data/AccidentesBicicletas_2020.xlsx')\n",
    "bicisXcel21 = pd.read_excel('data/AccidentesBicicletas_2021.xlsx')\n",
    "bicisXcel22 = pd.read_excel('data/AccidentesBicicletas_2022.xlsx')\n",
    "bicisXcel23 = pd.read_excel('data/AccidentesBicicletas_2023.xlsx')\n",
    "\n",
    "# Leemos los valores del fichero y los cargamos en un dataframe\n",
    "bicis20 = pd.DataFrame(bicisXcel20)\n",
    "bicis21 = pd.DataFrame(bicisXcel21)\n",
    "bicis22 = pd.DataFrame(bicisXcel22)\n",
    "bicis23 = pd.DataFrame(bicisXcel23)\n",
    "\n",
    "dfBicis = pd.concat([bicis20, bicis21, bicis22, bicis23])\n",
    "dfBicis"
   ]
  },
  {
   "cell_type": "code",
   "execution_count": 5,
   "id": "611350b1",
   "metadata": {},
   "outputs": [],
   "source": [
    "# Realizamos un backup del dataFrame de bicis\n",
    "dfBicisBackup = dfBicis"
   ]
  },
  {
   "cell_type": "code",
   "execution_count": 6,
   "id": "7bf48735",
   "metadata": {},
   "outputs": [
    {
     "data": {
      "text/plain": [
       "num_expediente              0\n",
       "fecha                       0\n",
       "hora                        0\n",
       "localizacion                0\n",
       "numero                      1\n",
       "cod_distrito                1\n",
       "distrito                    1\n",
       "tipo_accidente              0\n",
       "estado_meteorológico        0\n",
       "tipo_vehículo           13066\n",
       "tipo_persona                0\n",
       "rango_edad                  0\n",
       "sexo                        0\n",
       "cod_lesividad               0\n",
       "lesividad                   0\n",
       "coordenada_x_utm            2\n",
       "coordenada_y_utm            2\n",
       "positiva_alcohol           56\n",
       "positiva_droga          14790\n",
       "tipo_vehiculo            1871\n",
       "dtype: int64"
      ]
     },
     "execution_count": 6,
     "metadata": {},
     "output_type": "execute_result"
    }
   ],
   "source": [
    "# chequeamos los valores nulos de nuestro dataSet\n",
    "dfBicis.isnull().sum()"
   ]
  },
  {
   "cell_type": "code",
   "execution_count": 7,
   "id": "792db57e",
   "metadata": {},
   "outputs": [],
   "source": [
    "dfBicisML = pd.DataFrame({'fecha': dfBicis['fecha'],\n",
    "                          'horaE': dfBicis['hora'],\n",
    "                          'distrito': dfBicis['cod_distrito'],  \n",
    "                          'accidente': dfBicis['tipo_accidente'],\n",
    "                          'meteorología': dfBicis['estado_meteorológico'],\n",
    "                          'sexo': dfBicis['sexo'],\n",
    "                          'lesividad': dfBicis['cod_lesividad']})"
   ]
  },
  {
   "cell_type": "code",
   "execution_count": 37,
   "id": "472954a3",
   "metadata": {},
   "outputs": [
    {
     "data": {
      "text/plain": [
       "Hombre         9398\n",
       "Mujer          4156\n",
       "Desconocido    1286\n",
       "Name: sexo, dtype: int64"
      ]
     },
     "execution_count": 37,
     "metadata": {},
     "output_type": "execute_result"
    }
   ],
   "source": []
  },
  {
   "cell_type": "code",
   "execution_count": 8,
   "id": "dadd21fc",
   "metadata": {},
   "outputs": [
    {
     "data": {
      "text/plain": [
       "fecha           0\n",
       "horaE           0\n",
       "distrito        1\n",
       "accidente       0\n",
       "meteorología    0\n",
       "sexo            0\n",
       "lesividad       0\n",
       "dtype: int64"
      ]
     },
     "execution_count": 8,
     "metadata": {},
     "output_type": "execute_result"
    }
   ],
   "source": [
    "# chequeamos los valores nulos de nuestro dataSet\n",
    "dfBicisML.isnull().sum()"
   ]
  },
  {
   "cell_type": "code",
   "execution_count": 9,
   "id": "064ceef0",
   "metadata": {},
   "outputs": [],
   "source": [
    "dfBicisML = dfBicisML.dropna(subset = ['distrito'])"
   ]
  },
  {
   "cell_type": "code",
   "execution_count": 10,
   "id": "fc3ad963",
   "metadata": {},
   "outputs": [],
   "source": [
    "dfBicisML['año'] = [t.year for t in pd.DatetimeIndex(dfBicisML.fecha)]\n",
    "dfBicisML['año'] = dfBicisML['año'].map({2020:2020, 2021:2021, 2022:2022, 2023:2023})"
   ]
  },
  {
   "cell_type": "code",
   "execution_count": 11,
   "id": "3e9d6d6e",
   "metadata": {},
   "outputs": [],
   "source": [
    "dfBicisML['hora'] = pd.to_datetime(dfBicisML['horaE'], format='%H:%M:%S').dt.hour"
   ]
  },
  {
   "cell_type": "code",
   "execution_count": 12,
   "id": "b5f56651",
   "metadata": {},
   "outputs": [],
   "source": [
    "dfBicisML['dia'] = dfBicisML['fecha'].dt.dayofweek"
   ]
  },
  {
   "cell_type": "code",
   "execution_count": 13,
   "id": "5c459deb",
   "metadata": {},
   "outputs": [
    {
     "data": {
      "text/html": [
       "<div>\n",
       "<style scoped>\n",
       "    .dataframe tbody tr th:only-of-type {\n",
       "        vertical-align: middle;\n",
       "    }\n",
       "\n",
       "    .dataframe tbody tr th {\n",
       "        vertical-align: top;\n",
       "    }\n",
       "\n",
       "    .dataframe thead th {\n",
       "        text-align: right;\n",
       "    }\n",
       "</style>\n",
       "<table border=\"1\" class=\"dataframe\">\n",
       "  <thead>\n",
       "    <tr style=\"text-align: right;\">\n",
       "      <th></th>\n",
       "      <th>distrito</th>\n",
       "      <th>accidente</th>\n",
       "      <th>meteorología</th>\n",
       "      <th>sexo</th>\n",
       "      <th>lesividad</th>\n",
       "      <th>año</th>\n",
       "      <th>hora</th>\n",
       "      <th>dia</th>\n",
       "    </tr>\n",
       "  </thead>\n",
       "  <tbody>\n",
       "    <tr>\n",
       "      <th>0</th>\n",
       "      <td>20.0</td>\n",
       "      <td>Colisión frontal</td>\n",
       "      <td>Despejado</td>\n",
       "      <td>Hombre</td>\n",
       "      <td>7</td>\n",
       "      <td>2020</td>\n",
       "      <td>7</td>\n",
       "      <td>3</td>\n",
       "    </tr>\n",
       "    <tr>\n",
       "      <th>1</th>\n",
       "      <td>6.0</td>\n",
       "      <td>Caída</td>\n",
       "      <td>Despejado</td>\n",
       "      <td>Hombre</td>\n",
       "      <td>7</td>\n",
       "      <td>2020</td>\n",
       "      <td>13</td>\n",
       "      <td>5</td>\n",
       "    </tr>\n",
       "    <tr>\n",
       "      <th>2</th>\n",
       "      <td>8.0</td>\n",
       "      <td>Colisión múltiple</td>\n",
       "      <td>Despejado</td>\n",
       "      <td>Hombre</td>\n",
       "      <td>1</td>\n",
       "      <td>2020</td>\n",
       "      <td>12</td>\n",
       "      <td>5</td>\n",
       "    </tr>\n",
       "    <tr>\n",
       "      <th>3</th>\n",
       "      <td>8.0</td>\n",
       "      <td>Colisión múltiple</td>\n",
       "      <td>Despejado</td>\n",
       "      <td>Hombre</td>\n",
       "      <td>2</td>\n",
       "      <td>2020</td>\n",
       "      <td>12</td>\n",
       "      <td>5</td>\n",
       "    </tr>\n",
       "    <tr>\n",
       "      <th>4</th>\n",
       "      <td>8.0</td>\n",
       "      <td>Caída</td>\n",
       "      <td>Despejado</td>\n",
       "      <td>Hombre</td>\n",
       "      <td>6</td>\n",
       "      <td>2020</td>\n",
       "      <td>13</td>\n",
       "      <td>5</td>\n",
       "    </tr>\n",
       "    <tr>\n",
       "      <th>...</th>\n",
       "      <td>...</td>\n",
       "      <td>...</td>\n",
       "      <td>...</td>\n",
       "      <td>...</td>\n",
       "      <td>...</td>\n",
       "      <td>...</td>\n",
       "      <td>...</td>\n",
       "      <td>...</td>\n",
       "    </tr>\n",
       "    <tr>\n",
       "      <th>12183</th>\n",
       "      <td>13.0</td>\n",
       "      <td>Alcance</td>\n",
       "      <td>Despejado</td>\n",
       "      <td>Hombre</td>\n",
       "      <td>14</td>\n",
       "      <td>2023</td>\n",
       "      <td>13</td>\n",
       "      <td>4</td>\n",
       "    </tr>\n",
       "    <tr>\n",
       "      <th>12184</th>\n",
       "      <td>13.0</td>\n",
       "      <td>Alcance</td>\n",
       "      <td>Despejado</td>\n",
       "      <td>Hombre</td>\n",
       "      <td>7</td>\n",
       "      <td>2023</td>\n",
       "      <td>13</td>\n",
       "      <td>4</td>\n",
       "    </tr>\n",
       "    <tr>\n",
       "      <th>12185</th>\n",
       "      <td>13.0</td>\n",
       "      <td>Alcance</td>\n",
       "      <td>Despejado</td>\n",
       "      <td>Mujer</td>\n",
       "      <td>14</td>\n",
       "      <td>2023</td>\n",
       "      <td>13</td>\n",
       "      <td>4</td>\n",
       "    </tr>\n",
       "    <tr>\n",
       "      <th>12186</th>\n",
       "      <td>5.0</td>\n",
       "      <td>Alcance</td>\n",
       "      <td>Despejado</td>\n",
       "      <td>Desconocido</td>\n",
       "      <td>7</td>\n",
       "      <td>2023</td>\n",
       "      <td>11</td>\n",
       "      <td>4</td>\n",
       "    </tr>\n",
       "    <tr>\n",
       "      <th>12187</th>\n",
       "      <td>5.0</td>\n",
       "      <td>Alcance</td>\n",
       "      <td>Despejado</td>\n",
       "      <td>Hombre</td>\n",
       "      <td>14</td>\n",
       "      <td>2023</td>\n",
       "      <td>11</td>\n",
       "      <td>4</td>\n",
       "    </tr>\n",
       "  </tbody>\n",
       "</table>\n",
       "<p>14839 rows × 8 columns</p>\n",
       "</div>"
      ],
      "text/plain": [
       "       distrito          accidente meteorología         sexo  lesividad   año  \\\n",
       "0          20.0   Colisión frontal    Despejado       Hombre          7  2020   \n",
       "1           6.0              Caída    Despejado       Hombre          7  2020   \n",
       "2           8.0  Colisión múltiple    Despejado       Hombre          1  2020   \n",
       "3           8.0  Colisión múltiple    Despejado       Hombre          2  2020   \n",
       "4           8.0              Caída    Despejado       Hombre          6  2020   \n",
       "...         ...                ...          ...          ...        ...   ...   \n",
       "12183      13.0            Alcance    Despejado       Hombre         14  2023   \n",
       "12184      13.0            Alcance    Despejado       Hombre          7  2023   \n",
       "12185      13.0            Alcance    Despejado        Mujer         14  2023   \n",
       "12186       5.0            Alcance    Despejado  Desconocido          7  2023   \n",
       "12187       5.0            Alcance    Despejado       Hombre         14  2023   \n",
       "\n",
       "       hora  dia  \n",
       "0         7    3  \n",
       "1        13    5  \n",
       "2        12    5  \n",
       "3        12    5  \n",
       "4        13    5  \n",
       "...     ...  ...  \n",
       "12183    13    4  \n",
       "12184    13    4  \n",
       "12185    13    4  \n",
       "12186    11    4  \n",
       "12187    11    4  \n",
       "\n",
       "[14839 rows x 8 columns]"
      ]
     },
     "execution_count": 13,
     "metadata": {},
     "output_type": "execute_result"
    }
   ],
   "source": [
    "dfBicisML = dfBicisML.drop(['fecha', 'horaE'], axis=1)\n",
    "dfBicisML"
   ]
  },
  {
   "cell_type": "code",
   "execution_count": 14,
   "id": "77582ee6",
   "metadata": {},
   "outputs": [],
   "source": [
    "dfBicisML['cod_accidente'] = dfBicisML['accidente'].map({'Colisión fronto-lateral':1,'Alcance':2,'Colisión lateral':3,'Caída':4,'Choque contra obstáculo fijo':5,'Atropello a persona':6,'Colisión múltiple':7,'Colisión frontal':8,'Otro':9,'Solo salida de la vía':10,'Vuelco':11,'Atropello a animal':12})"
   ]
  },
  {
   "cell_type": "code",
   "execution_count": 15,
   "id": "d9141aaf",
   "metadata": {},
   "outputs": [
    {
     "data": {
      "text/plain": [
       "Despejado         13231\n",
       "Nublado             872\n",
       "Lluvia débil        592\n",
       "LLuvia intensa       74\n",
       "Se desconoce         70\n",
       "Name: meteorología, dtype: int64"
      ]
     },
     "execution_count": 15,
     "metadata": {},
     "output_type": "execute_result"
    }
   ],
   "source": [
    "dfBicisML['meteorología'].value_counts()"
   ]
  },
  {
   "cell_type": "code",
   "execution_count": 16,
   "id": "e3f05de7",
   "metadata": {},
   "outputs": [],
   "source": [
    "dfBicisML['cod_sexo'] = dfBicisML['sexo'].map({'Mujer':0,'Hombre':1,'Desconocido':2})"
   ]
  },
  {
   "cell_type": "code",
   "execution_count": 17,
   "id": "b2df5687",
   "metadata": {},
   "outputs": [],
   "source": [
    "dfBicisML['cod_meteorologia'] = dfBicisML['meteorología'].map({'Despejado':0,'Nublado':1,'Lluvia débil':2,'LLuvia intensa':3,'Se desconoce':4})"
   ]
  },
  {
   "cell_type": "code",
   "execution_count": 18,
   "id": "55f1eb1d",
   "metadata": {},
   "outputs": [],
   "source": [
    "dfBicisML = dfBicisML.drop(['meteorología'], axis=1)"
   ]
  },
  {
   "cell_type": "code",
   "execution_count": 19,
   "id": "73eadb4c",
   "metadata": {},
   "outputs": [
    {
     "ename": "ValueError",
     "evalue": "invalid literal for int() with base 10: 'Colisión frontal'",
     "output_type": "error",
     "traceback": [
      "\u001b[1;31m---------------------------------------------------------------------------\u001b[0m",
      "\u001b[1;31mValueError\u001b[0m                                Traceback (most recent call last)",
      "\u001b[1;32m~\\AppData\\Local\\Temp/ipykernel_55252/1800245225.py\u001b[0m in \u001b[0;36m<module>\u001b[1;34m\u001b[0m\n\u001b[1;32m----> 1\u001b[1;33m \u001b[0mdfBicisML\u001b[0m\u001b[1;33m.\u001b[0m\u001b[0mastype\u001b[0m\u001b[1;33m(\u001b[0m\u001b[0mint\u001b[0m\u001b[1;33m)\u001b[0m\u001b[1;33m\u001b[0m\u001b[1;33m\u001b[0m\u001b[0m\n\u001b[0m",
      "\u001b[1;32m~\\anaconda3\\lib\\site-packages\\pandas\\core\\generic.py\u001b[0m in \u001b[0;36mastype\u001b[1;34m(self, dtype, copy, errors)\u001b[0m\n\u001b[0;32m   5813\u001b[0m         \u001b[1;32melse\u001b[0m\u001b[1;33m:\u001b[0m\u001b[1;33m\u001b[0m\u001b[1;33m\u001b[0m\u001b[0m\n\u001b[0;32m   5814\u001b[0m             \u001b[1;31m# else, only a single dtype is given\u001b[0m\u001b[1;33m\u001b[0m\u001b[1;33m\u001b[0m\u001b[0m\n\u001b[1;32m-> 5815\u001b[1;33m             \u001b[0mnew_data\u001b[0m \u001b[1;33m=\u001b[0m \u001b[0mself\u001b[0m\u001b[1;33m.\u001b[0m\u001b[0m_mgr\u001b[0m\u001b[1;33m.\u001b[0m\u001b[0mastype\u001b[0m\u001b[1;33m(\u001b[0m\u001b[0mdtype\u001b[0m\u001b[1;33m=\u001b[0m\u001b[0mdtype\u001b[0m\u001b[1;33m,\u001b[0m \u001b[0mcopy\u001b[0m\u001b[1;33m=\u001b[0m\u001b[0mcopy\u001b[0m\u001b[1;33m,\u001b[0m \u001b[0merrors\u001b[0m\u001b[1;33m=\u001b[0m\u001b[0merrors\u001b[0m\u001b[1;33m)\u001b[0m\u001b[1;33m\u001b[0m\u001b[1;33m\u001b[0m\u001b[0m\n\u001b[0m\u001b[0;32m   5816\u001b[0m             \u001b[1;32mreturn\u001b[0m \u001b[0mself\u001b[0m\u001b[1;33m.\u001b[0m\u001b[0m_constructor\u001b[0m\u001b[1;33m(\u001b[0m\u001b[0mnew_data\u001b[0m\u001b[1;33m)\u001b[0m\u001b[1;33m.\u001b[0m\u001b[0m__finalize__\u001b[0m\u001b[1;33m(\u001b[0m\u001b[0mself\u001b[0m\u001b[1;33m,\u001b[0m \u001b[0mmethod\u001b[0m\u001b[1;33m=\u001b[0m\u001b[1;34m\"astype\"\u001b[0m\u001b[1;33m)\u001b[0m\u001b[1;33m\u001b[0m\u001b[1;33m\u001b[0m\u001b[0m\n\u001b[0;32m   5817\u001b[0m \u001b[1;33m\u001b[0m\u001b[0m\n",
      "\u001b[1;32m~\\anaconda3\\lib\\site-packages\\pandas\\core\\internals\\managers.py\u001b[0m in \u001b[0;36mastype\u001b[1;34m(self, dtype, copy, errors)\u001b[0m\n\u001b[0;32m    416\u001b[0m \u001b[1;33m\u001b[0m\u001b[0m\n\u001b[0;32m    417\u001b[0m     \u001b[1;32mdef\u001b[0m \u001b[0mastype\u001b[0m\u001b[1;33m(\u001b[0m\u001b[0mself\u001b[0m\u001b[1;33m:\u001b[0m \u001b[0mT\u001b[0m\u001b[1;33m,\u001b[0m \u001b[0mdtype\u001b[0m\u001b[1;33m,\u001b[0m \u001b[0mcopy\u001b[0m\u001b[1;33m:\u001b[0m \u001b[0mbool\u001b[0m \u001b[1;33m=\u001b[0m \u001b[1;32mFalse\u001b[0m\u001b[1;33m,\u001b[0m \u001b[0merrors\u001b[0m\u001b[1;33m:\u001b[0m \u001b[0mstr\u001b[0m \u001b[1;33m=\u001b[0m \u001b[1;34m\"raise\"\u001b[0m\u001b[1;33m)\u001b[0m \u001b[1;33m->\u001b[0m \u001b[0mT\u001b[0m\u001b[1;33m:\u001b[0m\u001b[1;33m\u001b[0m\u001b[1;33m\u001b[0m\u001b[0m\n\u001b[1;32m--> 418\u001b[1;33m         \u001b[1;32mreturn\u001b[0m \u001b[0mself\u001b[0m\u001b[1;33m.\u001b[0m\u001b[0mapply\u001b[0m\u001b[1;33m(\u001b[0m\u001b[1;34m\"astype\"\u001b[0m\u001b[1;33m,\u001b[0m \u001b[0mdtype\u001b[0m\u001b[1;33m=\u001b[0m\u001b[0mdtype\u001b[0m\u001b[1;33m,\u001b[0m \u001b[0mcopy\u001b[0m\u001b[1;33m=\u001b[0m\u001b[0mcopy\u001b[0m\u001b[1;33m,\u001b[0m \u001b[0merrors\u001b[0m\u001b[1;33m=\u001b[0m\u001b[0merrors\u001b[0m\u001b[1;33m)\u001b[0m\u001b[1;33m\u001b[0m\u001b[1;33m\u001b[0m\u001b[0m\n\u001b[0m\u001b[0;32m    419\u001b[0m \u001b[1;33m\u001b[0m\u001b[0m\n\u001b[0;32m    420\u001b[0m     def convert(\n",
      "\u001b[1;32m~\\anaconda3\\lib\\site-packages\\pandas\\core\\internals\\managers.py\u001b[0m in \u001b[0;36mapply\u001b[1;34m(self, f, align_keys, ignore_failures, **kwargs)\u001b[0m\n\u001b[0;32m    325\u001b[0m                     \u001b[0mapplied\u001b[0m \u001b[1;33m=\u001b[0m \u001b[0mb\u001b[0m\u001b[1;33m.\u001b[0m\u001b[0mapply\u001b[0m\u001b[1;33m(\u001b[0m\u001b[0mf\u001b[0m\u001b[1;33m,\u001b[0m \u001b[1;33m**\u001b[0m\u001b[0mkwargs\u001b[0m\u001b[1;33m)\u001b[0m\u001b[1;33m\u001b[0m\u001b[1;33m\u001b[0m\u001b[0m\n\u001b[0;32m    326\u001b[0m                 \u001b[1;32melse\u001b[0m\u001b[1;33m:\u001b[0m\u001b[1;33m\u001b[0m\u001b[1;33m\u001b[0m\u001b[0m\n\u001b[1;32m--> 327\u001b[1;33m                     \u001b[0mapplied\u001b[0m \u001b[1;33m=\u001b[0m \u001b[0mgetattr\u001b[0m\u001b[1;33m(\u001b[0m\u001b[0mb\u001b[0m\u001b[1;33m,\u001b[0m \u001b[0mf\u001b[0m\u001b[1;33m)\u001b[0m\u001b[1;33m(\u001b[0m\u001b[1;33m**\u001b[0m\u001b[0mkwargs\u001b[0m\u001b[1;33m)\u001b[0m\u001b[1;33m\u001b[0m\u001b[1;33m\u001b[0m\u001b[0m\n\u001b[0m\u001b[0;32m    328\u001b[0m             \u001b[1;32mexcept\u001b[0m \u001b[1;33m(\u001b[0m\u001b[0mTypeError\u001b[0m\u001b[1;33m,\u001b[0m \u001b[0mNotImplementedError\u001b[0m\u001b[1;33m)\u001b[0m\u001b[1;33m:\u001b[0m\u001b[1;33m\u001b[0m\u001b[1;33m\u001b[0m\u001b[0m\n\u001b[0;32m    329\u001b[0m                 \u001b[1;32mif\u001b[0m \u001b[1;32mnot\u001b[0m \u001b[0mignore_failures\u001b[0m\u001b[1;33m:\u001b[0m\u001b[1;33m\u001b[0m\u001b[1;33m\u001b[0m\u001b[0m\n",
      "\u001b[1;32m~\\anaconda3\\lib\\site-packages\\pandas\\core\\internals\\blocks.py\u001b[0m in \u001b[0;36mastype\u001b[1;34m(self, dtype, copy, errors)\u001b[0m\n\u001b[0;32m    589\u001b[0m         \u001b[0mvalues\u001b[0m \u001b[1;33m=\u001b[0m \u001b[0mself\u001b[0m\u001b[1;33m.\u001b[0m\u001b[0mvalues\u001b[0m\u001b[1;33m\u001b[0m\u001b[1;33m\u001b[0m\u001b[0m\n\u001b[0;32m    590\u001b[0m \u001b[1;33m\u001b[0m\u001b[0m\n\u001b[1;32m--> 591\u001b[1;33m         \u001b[0mnew_values\u001b[0m \u001b[1;33m=\u001b[0m \u001b[0mastype_array_safe\u001b[0m\u001b[1;33m(\u001b[0m\u001b[0mvalues\u001b[0m\u001b[1;33m,\u001b[0m \u001b[0mdtype\u001b[0m\u001b[1;33m,\u001b[0m \u001b[0mcopy\u001b[0m\u001b[1;33m=\u001b[0m\u001b[0mcopy\u001b[0m\u001b[1;33m,\u001b[0m \u001b[0merrors\u001b[0m\u001b[1;33m=\u001b[0m\u001b[0merrors\u001b[0m\u001b[1;33m)\u001b[0m\u001b[1;33m\u001b[0m\u001b[1;33m\u001b[0m\u001b[0m\n\u001b[0m\u001b[0;32m    592\u001b[0m \u001b[1;33m\u001b[0m\u001b[0m\n\u001b[0;32m    593\u001b[0m         \u001b[0mnew_values\u001b[0m \u001b[1;33m=\u001b[0m \u001b[0mmaybe_coerce_values\u001b[0m\u001b[1;33m(\u001b[0m\u001b[0mnew_values\u001b[0m\u001b[1;33m)\u001b[0m\u001b[1;33m\u001b[0m\u001b[1;33m\u001b[0m\u001b[0m\n",
      "\u001b[1;32m~\\anaconda3\\lib\\site-packages\\pandas\\core\\dtypes\\cast.py\u001b[0m in \u001b[0;36mastype_array_safe\u001b[1;34m(values, dtype, copy, errors)\u001b[0m\n\u001b[0;32m   1307\u001b[0m \u001b[1;33m\u001b[0m\u001b[0m\n\u001b[0;32m   1308\u001b[0m     \u001b[1;32mtry\u001b[0m\u001b[1;33m:\u001b[0m\u001b[1;33m\u001b[0m\u001b[1;33m\u001b[0m\u001b[0m\n\u001b[1;32m-> 1309\u001b[1;33m         \u001b[0mnew_values\u001b[0m \u001b[1;33m=\u001b[0m \u001b[0mastype_array\u001b[0m\u001b[1;33m(\u001b[0m\u001b[0mvalues\u001b[0m\u001b[1;33m,\u001b[0m \u001b[0mdtype\u001b[0m\u001b[1;33m,\u001b[0m \u001b[0mcopy\u001b[0m\u001b[1;33m=\u001b[0m\u001b[0mcopy\u001b[0m\u001b[1;33m)\u001b[0m\u001b[1;33m\u001b[0m\u001b[1;33m\u001b[0m\u001b[0m\n\u001b[0m\u001b[0;32m   1310\u001b[0m     \u001b[1;32mexcept\u001b[0m \u001b[1;33m(\u001b[0m\u001b[0mValueError\u001b[0m\u001b[1;33m,\u001b[0m \u001b[0mTypeError\u001b[0m\u001b[1;33m)\u001b[0m\u001b[1;33m:\u001b[0m\u001b[1;33m\u001b[0m\u001b[1;33m\u001b[0m\u001b[0m\n\u001b[0;32m   1311\u001b[0m         \u001b[1;31m# e.g. astype_nansafe can fail on object-dtype of strings\u001b[0m\u001b[1;33m\u001b[0m\u001b[1;33m\u001b[0m\u001b[0m\n",
      "\u001b[1;32m~\\anaconda3\\lib\\site-packages\\pandas\\core\\dtypes\\cast.py\u001b[0m in \u001b[0;36mastype_array\u001b[1;34m(values, dtype, copy)\u001b[0m\n\u001b[0;32m   1255\u001b[0m \u001b[1;33m\u001b[0m\u001b[0m\n\u001b[0;32m   1256\u001b[0m     \u001b[1;32melse\u001b[0m\u001b[1;33m:\u001b[0m\u001b[1;33m\u001b[0m\u001b[1;33m\u001b[0m\u001b[0m\n\u001b[1;32m-> 1257\u001b[1;33m         \u001b[0mvalues\u001b[0m \u001b[1;33m=\u001b[0m \u001b[0mastype_nansafe\u001b[0m\u001b[1;33m(\u001b[0m\u001b[0mvalues\u001b[0m\u001b[1;33m,\u001b[0m \u001b[0mdtype\u001b[0m\u001b[1;33m,\u001b[0m \u001b[0mcopy\u001b[0m\u001b[1;33m=\u001b[0m\u001b[0mcopy\u001b[0m\u001b[1;33m)\u001b[0m\u001b[1;33m\u001b[0m\u001b[1;33m\u001b[0m\u001b[0m\n\u001b[0m\u001b[0;32m   1258\u001b[0m \u001b[1;33m\u001b[0m\u001b[0m\n\u001b[0;32m   1259\u001b[0m     \u001b[1;31m# in pandas we don't store numpy str dtypes, so convert to object\u001b[0m\u001b[1;33m\u001b[0m\u001b[1;33m\u001b[0m\u001b[0m\n",
      "\u001b[1;32m~\\anaconda3\\lib\\site-packages\\pandas\\core\\dtypes\\cast.py\u001b[0m in \u001b[0;36mastype_nansafe\u001b[1;34m(arr, dtype, copy, skipna)\u001b[0m\n\u001b[0;32m   1093\u001b[0m     \u001b[1;32mif\u001b[0m \u001b[0marr\u001b[0m\u001b[1;33m.\u001b[0m\u001b[0mndim\u001b[0m \u001b[1;33m>\u001b[0m \u001b[1;36m1\u001b[0m\u001b[1;33m:\u001b[0m\u001b[1;33m\u001b[0m\u001b[1;33m\u001b[0m\u001b[0m\n\u001b[0;32m   1094\u001b[0m         \u001b[0mflat\u001b[0m \u001b[1;33m=\u001b[0m \u001b[0marr\u001b[0m\u001b[1;33m.\u001b[0m\u001b[0mravel\u001b[0m\u001b[1;33m(\u001b[0m\u001b[1;33m)\u001b[0m\u001b[1;33m\u001b[0m\u001b[1;33m\u001b[0m\u001b[0m\n\u001b[1;32m-> 1095\u001b[1;33m         \u001b[0mresult\u001b[0m \u001b[1;33m=\u001b[0m \u001b[0mastype_nansafe\u001b[0m\u001b[1;33m(\u001b[0m\u001b[0mflat\u001b[0m\u001b[1;33m,\u001b[0m \u001b[0mdtype\u001b[0m\u001b[1;33m,\u001b[0m \u001b[0mcopy\u001b[0m\u001b[1;33m=\u001b[0m\u001b[0mcopy\u001b[0m\u001b[1;33m,\u001b[0m \u001b[0mskipna\u001b[0m\u001b[1;33m=\u001b[0m\u001b[0mskipna\u001b[0m\u001b[1;33m)\u001b[0m\u001b[1;33m\u001b[0m\u001b[1;33m\u001b[0m\u001b[0m\n\u001b[0m\u001b[0;32m   1096\u001b[0m         \u001b[1;31m# error: Item \"ExtensionArray\" of \"Union[ExtensionArray, ndarray]\" has no\u001b[0m\u001b[1;33m\u001b[0m\u001b[1;33m\u001b[0m\u001b[0m\n\u001b[0;32m   1097\u001b[0m         \u001b[1;31m# attribute \"reshape\"\u001b[0m\u001b[1;33m\u001b[0m\u001b[1;33m\u001b[0m\u001b[0m\n",
      "\u001b[1;32m~\\anaconda3\\lib\\site-packages\\pandas\\core\\dtypes\\cast.py\u001b[0m in \u001b[0;36mastype_nansafe\u001b[1;34m(arr, dtype, copy, skipna)\u001b[0m\n\u001b[0;32m   1172\u001b[0m         \u001b[1;31m# work around NumPy brokenness, #1987\u001b[0m\u001b[1;33m\u001b[0m\u001b[1;33m\u001b[0m\u001b[0m\n\u001b[0;32m   1173\u001b[0m         \u001b[1;32mif\u001b[0m \u001b[0mnp\u001b[0m\u001b[1;33m.\u001b[0m\u001b[0missubdtype\u001b[0m\u001b[1;33m(\u001b[0m\u001b[0mdtype\u001b[0m\u001b[1;33m.\u001b[0m\u001b[0mtype\u001b[0m\u001b[1;33m,\u001b[0m \u001b[0mnp\u001b[0m\u001b[1;33m.\u001b[0m\u001b[0minteger\u001b[0m\u001b[1;33m)\u001b[0m\u001b[1;33m:\u001b[0m\u001b[1;33m\u001b[0m\u001b[1;33m\u001b[0m\u001b[0m\n\u001b[1;32m-> 1174\u001b[1;33m             \u001b[1;32mreturn\u001b[0m \u001b[0mlib\u001b[0m\u001b[1;33m.\u001b[0m\u001b[0mastype_intsafe\u001b[0m\u001b[1;33m(\u001b[0m\u001b[0marr\u001b[0m\u001b[1;33m,\u001b[0m \u001b[0mdtype\u001b[0m\u001b[1;33m)\u001b[0m\u001b[1;33m\u001b[0m\u001b[1;33m\u001b[0m\u001b[0m\n\u001b[0m\u001b[0;32m   1175\u001b[0m \u001b[1;33m\u001b[0m\u001b[0m\n\u001b[0;32m   1176\u001b[0m         \u001b[1;31m# if we have a datetime/timedelta array of objects\u001b[0m\u001b[1;33m\u001b[0m\u001b[1;33m\u001b[0m\u001b[0m\n",
      "\u001b[1;32m~\\anaconda3\\lib\\site-packages\\pandas\\_libs\\lib.pyx\u001b[0m in \u001b[0;36mpandas._libs.lib.astype_intsafe\u001b[1;34m()\u001b[0m\n",
      "\u001b[1;31mValueError\u001b[0m: invalid literal for int() with base 10: 'Colisión frontal'"
     ]
    }
   ],
   "source": [
    "dfBicisML.astype(int)"
   ]
  },
  {
   "cell_type": "code",
   "execution_count": 21,
   "id": "96b53a60",
   "metadata": {},
   "outputs": [],
   "source": [
    "dfConjuntoML = pd.DataFrame({'distrito': dfBicisML['distrito'],\n",
    "                          'año': dfBicisML['año'],\n",
    "                          'hora': dfBicisML['hora'],  \n",
    "                          'dia': dfBicisML['dia'],\n",
    "                          'accidente': dfBicisML['cod_accidente'],\n",
    "                          'meteo': dfBicisML['cod_meteorologia'],\n",
    "                          'sexo': dfBicisML['cod_sexo']})"
   ]
  },
  {
   "cell_type": "code",
   "execution_count": 22,
   "id": "2070639e",
   "metadata": {},
   "outputs": [
    {
     "data": {
      "text/html": [
       "<style type=\"text/css\">\n",
       "#T_f82b7_row0_col0, #T_f82b7_row1_col1, #T_f82b7_row2_col2, #T_f82b7_row3_col3, #T_f82b7_row4_col4, #T_f82b7_row5_col5, #T_f82b7_row6_col6 {\n",
       "  background-color: #b40426;\n",
       "  color: #f1f1f1;\n",
       "}\n",
       "#T_f82b7_row0_col1, #T_f82b7_row4_col6 {\n",
       "  background-color: #6384eb;\n",
       "  color: #f1f1f1;\n",
       "}\n",
       "#T_f82b7_row0_col2, #T_f82b7_row1_col6, #T_f82b7_row5_col2 {\n",
       "  background-color: #5470de;\n",
       "  color: #f1f1f1;\n",
       "}\n",
       "#T_f82b7_row0_col3, #T_f82b7_row1_col3, #T_f82b7_row4_col1, #T_f82b7_row5_col4 {\n",
       "  background-color: #485fd1;\n",
       "  color: #f1f1f1;\n",
       "}\n",
       "#T_f82b7_row0_col4, #T_f82b7_row4_col2, #T_f82b7_row4_col5 {\n",
       "  background-color: #4257c9;\n",
       "  color: #f1f1f1;\n",
       "}\n",
       "#T_f82b7_row0_col5 {\n",
       "  background-color: #3f53c6;\n",
       "  color: #f1f1f1;\n",
       "}\n",
       "#T_f82b7_row0_col6 {\n",
       "  background-color: #5a78e4;\n",
       "  color: #f1f1f1;\n",
       "}\n",
       "#T_f82b7_row1_col0, #T_f82b7_row3_col6, #T_f82b7_row6_col3 {\n",
       "  background-color: #5977e3;\n",
       "  color: #f1f1f1;\n",
       "}\n",
       "#T_f82b7_row1_col2 {\n",
       "  background-color: #3d50c3;\n",
       "  color: #f1f1f1;\n",
       "}\n",
       "#T_f82b7_row1_col4, #T_f82b7_row6_col5 {\n",
       "  background-color: #4358cb;\n",
       "  color: #f1f1f1;\n",
       "}\n",
       "#T_f82b7_row1_col5, #T_f82b7_row2_col1, #T_f82b7_row2_col3, #T_f82b7_row2_col4, #T_f82b7_row2_col6, #T_f82b7_row3_col0, #T_f82b7_row3_col2, #T_f82b7_row6_col2 {\n",
       "  background-color: #3b4cc0;\n",
       "  color: #f1f1f1;\n",
       "}\n",
       "#T_f82b7_row2_col0 {\n",
       "  background-color: #465ecf;\n",
       "  color: #f1f1f1;\n",
       "}\n",
       "#T_f82b7_row2_col5, #T_f82b7_row3_col1, #T_f82b7_row5_col1 {\n",
       "  background-color: #455cce;\n",
       "  color: #f1f1f1;\n",
       "}\n",
       "#T_f82b7_row3_col4 {\n",
       "  background-color: #4b64d5;\n",
       "  color: #f1f1f1;\n",
       "}\n",
       "#T_f82b7_row3_col5 {\n",
       "  background-color: #4961d2;\n",
       "  color: #f1f1f1;\n",
       "}\n",
       "#T_f82b7_row4_col0 {\n",
       "  background-color: #3c4ec2;\n",
       "  color: #f1f1f1;\n",
       "}\n",
       "#T_f82b7_row4_col3 {\n",
       "  background-color: #536edd;\n",
       "  color: #f1f1f1;\n",
       "}\n",
       "#T_f82b7_row5_col0 {\n",
       "  background-color: #4055c8;\n",
       "  color: #f1f1f1;\n",
       "}\n",
       "#T_f82b7_row5_col3 {\n",
       "  background-color: #5673e0;\n",
       "  color: #f1f1f1;\n",
       "}\n",
       "#T_f82b7_row5_col6, #T_f82b7_row6_col1 {\n",
       "  background-color: #516ddb;\n",
       "  color: #f1f1f1;\n",
       "}\n",
       "#T_f82b7_row6_col0 {\n",
       "  background-color: #4c66d6;\n",
       "  color: #f1f1f1;\n",
       "}\n",
       "#T_f82b7_row6_col4 {\n",
       "  background-color: #5b7ae5;\n",
       "  color: #f1f1f1;\n",
       "}\n",
       "</style>\n",
       "<table id=\"T_f82b7_\">\n",
       "  <thead>\n",
       "    <tr>\n",
       "      <th class=\"blank level0\" >&nbsp;</th>\n",
       "      <th class=\"col_heading level0 col0\" >distrito</th>\n",
       "      <th class=\"col_heading level0 col1\" >año</th>\n",
       "      <th class=\"col_heading level0 col2\" >hora</th>\n",
       "      <th class=\"col_heading level0 col3\" >dia</th>\n",
       "      <th class=\"col_heading level0 col4\" >accidente</th>\n",
       "      <th class=\"col_heading level0 col5\" >meteo</th>\n",
       "      <th class=\"col_heading level0 col6\" >sexo</th>\n",
       "    </tr>\n",
       "  </thead>\n",
       "  <tbody>\n",
       "    <tr>\n",
       "      <th id=\"T_f82b7_level0_row0\" class=\"row_heading level0 row0\" >distrito</th>\n",
       "      <td id=\"T_f82b7_row0_col0\" class=\"data row0 col0\" >1.000000</td>\n",
       "      <td id=\"T_f82b7_row0_col1\" class=\"data row0 col1\" >0.077658</td>\n",
       "      <td id=\"T_f82b7_row0_col2\" class=\"data row0 col2\" >0.017994</td>\n",
       "      <td id=\"T_f82b7_row0_col3\" class=\"data row0 col3\" >-0.022344</td>\n",
       "      <td id=\"T_f82b7_row0_col4\" class=\"data row0 col4\" >-0.015109</td>\n",
       "      <td id=\"T_f82b7_row0_col5\" class=\"data row0 col5\" >-0.001029</td>\n",
       "      <td id=\"T_f82b7_row0_col6\" class=\"data row0 col6\" >0.038741</td>\n",
       "    </tr>\n",
       "    <tr>\n",
       "      <th id=\"T_f82b7_level0_row1\" class=\"row_heading level0 row1\" >año</th>\n",
       "      <td id=\"T_f82b7_row1_col0\" class=\"data row1 col0\" >0.077658</td>\n",
       "      <td id=\"T_f82b7_row1_col1\" class=\"data row1 col1\" >1.000000</td>\n",
       "      <td id=\"T_f82b7_row1_col2\" class=\"data row1 col2\" >-0.060006</td>\n",
       "      <td id=\"T_f82b7_row1_col3\" class=\"data row1 col3\" >-0.021698</td>\n",
       "      <td id=\"T_f82b7_row1_col4\" class=\"data row1 col4\" >-0.013045</td>\n",
       "      <td id=\"T_f82b7_row1_col5\" class=\"data row1 col5\" >-0.019555</td>\n",
       "      <td id=\"T_f82b7_row1_col6\" class=\"data row1 col6\" >0.018911</td>\n",
       "    </tr>\n",
       "    <tr>\n",
       "      <th id=\"T_f82b7_level0_row2\" class=\"row_heading level0 row2\" >hora</th>\n",
       "      <td id=\"T_f82b7_row2_col0\" class=\"data row2 col0\" >0.017994</td>\n",
       "      <td id=\"T_f82b7_row2_col1\" class=\"data row2 col1\" >-0.060006</td>\n",
       "      <td id=\"T_f82b7_row2_col2\" class=\"data row2 col2\" >1.000000</td>\n",
       "      <td id=\"T_f82b7_row2_col3\" class=\"data row2 col3\" >-0.068322</td>\n",
       "      <td id=\"T_f82b7_row2_col4\" class=\"data row2 col4\" >-0.042051</td>\n",
       "      <td id=\"T_f82b7_row2_col5\" class=\"data row2 col5\" >0.020183</td>\n",
       "      <td id=\"T_f82b7_row2_col6\" class=\"data row2 col6\" >-0.070943</td>\n",
       "    </tr>\n",
       "    <tr>\n",
       "      <th id=\"T_f82b7_level0_row3\" class=\"row_heading level0 row3\" >dia</th>\n",
       "      <td id=\"T_f82b7_row3_col0\" class=\"data row3 col0\" >-0.022344</td>\n",
       "      <td id=\"T_f82b7_row3_col1\" class=\"data row3 col1\" >-0.021698</td>\n",
       "      <td id=\"T_f82b7_row3_col2\" class=\"data row3 col2\" >-0.068322</td>\n",
       "      <td id=\"T_f82b7_row3_col3\" class=\"data row3 col3\" >1.000000</td>\n",
       "      <td id=\"T_f82b7_row3_col4\" class=\"data row3 col4\" >0.018494</td>\n",
       "      <td id=\"T_f82b7_row3_col5\" class=\"data row3 col5\" >0.028386</td>\n",
       "      <td id=\"T_f82b7_row3_col6\" class=\"data row3 col6\" >0.037070</td>\n",
       "    </tr>\n",
       "    <tr>\n",
       "      <th id=\"T_f82b7_level0_row4\" class=\"row_heading level0 row4\" >accidente</th>\n",
       "      <td id=\"T_f82b7_row4_col0\" class=\"data row4 col0\" >-0.015109</td>\n",
       "      <td id=\"T_f82b7_row4_col1\" class=\"data row4 col1\" >-0.013045</td>\n",
       "      <td id=\"T_f82b7_row4_col2\" class=\"data row4 col2\" >-0.042051</td>\n",
       "      <td id=\"T_f82b7_row4_col3\" class=\"data row4 col3\" >0.018494</td>\n",
       "      <td id=\"T_f82b7_row4_col4\" class=\"data row4 col4\" >1.000000</td>\n",
       "      <td id=\"T_f82b7_row4_col5\" class=\"data row4 col5\" >0.006733</td>\n",
       "      <td id=\"T_f82b7_row4_col6\" class=\"data row4 col6\" >0.068872</td>\n",
       "    </tr>\n",
       "    <tr>\n",
       "      <th id=\"T_f82b7_level0_row5\" class=\"row_heading level0 row5\" >meteo</th>\n",
       "      <td id=\"T_f82b7_row5_col0\" class=\"data row5 col0\" >-0.001029</td>\n",
       "      <td id=\"T_f82b7_row5_col1\" class=\"data row5 col1\" >-0.019555</td>\n",
       "      <td id=\"T_f82b7_row5_col2\" class=\"data row5 col2\" >0.020183</td>\n",
       "      <td id=\"T_f82b7_row5_col3\" class=\"data row5 col3\" >0.028386</td>\n",
       "      <td id=\"T_f82b7_row5_col4\" class=\"data row5 col4\" >0.006733</td>\n",
       "      <td id=\"T_f82b7_row5_col5\" class=\"data row5 col5\" >1.000000</td>\n",
       "      <td id=\"T_f82b7_row5_col6\" class=\"data row5 col6\" >0.011740</td>\n",
       "    </tr>\n",
       "    <tr>\n",
       "      <th id=\"T_f82b7_level0_row6\" class=\"row_heading level0 row6\" >sexo</th>\n",
       "      <td id=\"T_f82b7_row6_col0\" class=\"data row6 col0\" >0.038741</td>\n",
       "      <td id=\"T_f82b7_row6_col1\" class=\"data row6 col1\" >0.018911</td>\n",
       "      <td id=\"T_f82b7_row6_col2\" class=\"data row6 col2\" >-0.070943</td>\n",
       "      <td id=\"T_f82b7_row6_col3\" class=\"data row6 col3\" >0.037070</td>\n",
       "      <td id=\"T_f82b7_row6_col4\" class=\"data row6 col4\" >0.068872</td>\n",
       "      <td id=\"T_f82b7_row6_col5\" class=\"data row6 col5\" >0.011740</td>\n",
       "      <td id=\"T_f82b7_row6_col6\" class=\"data row6 col6\" >1.000000</td>\n",
       "    </tr>\n",
       "  </tbody>\n",
       "</table>\n"
      ],
      "text/plain": [
       "<pandas.io.formats.style.Styler at 0x160f6cf59a0>"
      ]
     },
     "execution_count": 22,
     "metadata": {},
     "output_type": "execute_result"
    }
   ],
   "source": [
    "corr = dfConjuntoML.corr()\n",
    "corr.style.background_gradient (cmap = 'coolwarm')"
   ]
  },
  {
   "cell_type": "code",
   "execution_count": 32,
   "id": "e9abc1ec",
   "metadata": {},
   "outputs": [
    {
     "data": {
      "text/html": [
       "<div>\n",
       "<style scoped>\n",
       "    .dataframe tbody tr th:only-of-type {\n",
       "        vertical-align: middle;\n",
       "    }\n",
       "\n",
       "    .dataframe tbody tr th {\n",
       "        vertical-align: top;\n",
       "    }\n",
       "\n",
       "    .dataframe thead th {\n",
       "        text-align: right;\n",
       "    }\n",
       "</style>\n",
       "<table border=\"1\" class=\"dataframe\">\n",
       "  <thead>\n",
       "    <tr style=\"text-align: right;\">\n",
       "      <th></th>\n",
       "      <th>distrito</th>\n",
       "      <th>año</th>\n",
       "      <th>hora</th>\n",
       "      <th>dia</th>\n",
       "      <th>accidente</th>\n",
       "      <th>meteo</th>\n",
       "      <th>sexo</th>\n",
       "      <th>lesividad</th>\n",
       "    </tr>\n",
       "  </thead>\n",
       "  <tbody>\n",
       "    <tr>\n",
       "      <th>distrito</th>\n",
       "      <td>1.000000</td>\n",
       "      <td>0.077658</td>\n",
       "      <td>0.017994</td>\n",
       "      <td>-0.022344</td>\n",
       "      <td>-0.015109</td>\n",
       "      <td>-0.001029</td>\n",
       "      <td>0.051894</td>\n",
       "      <td>-0.007987</td>\n",
       "    </tr>\n",
       "    <tr>\n",
       "      <th>año</th>\n",
       "      <td>0.077658</td>\n",
       "      <td>1.000000</td>\n",
       "      <td>-0.060006</td>\n",
       "      <td>-0.021698</td>\n",
       "      <td>-0.013045</td>\n",
       "      <td>-0.019555</td>\n",
       "      <td>0.051099</td>\n",
       "      <td>-0.210125</td>\n",
       "    </tr>\n",
       "    <tr>\n",
       "      <th>hora</th>\n",
       "      <td>0.017994</td>\n",
       "      <td>-0.060006</td>\n",
       "      <td>1.000000</td>\n",
       "      <td>-0.068322</td>\n",
       "      <td>-0.042051</td>\n",
       "      <td>0.020183</td>\n",
       "      <td>-0.076941</td>\n",
       "      <td>-0.031447</td>\n",
       "    </tr>\n",
       "    <tr>\n",
       "      <th>dia</th>\n",
       "      <td>-0.022344</td>\n",
       "      <td>-0.021698</td>\n",
       "      <td>-0.068322</td>\n",
       "      <td>1.000000</td>\n",
       "      <td>0.018494</td>\n",
       "      <td>0.028386</td>\n",
       "      <td>0.048025</td>\n",
       "      <td>-0.003307</td>\n",
       "    </tr>\n",
       "    <tr>\n",
       "      <th>accidente</th>\n",
       "      <td>-0.015109</td>\n",
       "      <td>-0.013045</td>\n",
       "      <td>-0.042051</td>\n",
       "      <td>0.018494</td>\n",
       "      <td>1.000000</td>\n",
       "      <td>0.006733</td>\n",
       "      <td>0.094990</td>\n",
       "      <td>0.015957</td>\n",
       "    </tr>\n",
       "    <tr>\n",
       "      <th>meteo</th>\n",
       "      <td>-0.001029</td>\n",
       "      <td>-0.019555</td>\n",
       "      <td>0.020183</td>\n",
       "      <td>0.028386</td>\n",
       "      <td>0.006733</td>\n",
       "      <td>1.000000</td>\n",
       "      <td>0.014201</td>\n",
       "      <td>0.016717</td>\n",
       "    </tr>\n",
       "    <tr>\n",
       "      <th>sexo</th>\n",
       "      <td>0.051894</td>\n",
       "      <td>0.051099</td>\n",
       "      <td>-0.076941</td>\n",
       "      <td>0.048025</td>\n",
       "      <td>0.094990</td>\n",
       "      <td>0.014201</td>\n",
       "      <td>1.000000</td>\n",
       "      <td>0.000744</td>\n",
       "    </tr>\n",
       "    <tr>\n",
       "      <th>lesividad</th>\n",
       "      <td>-0.007987</td>\n",
       "      <td>-0.210125</td>\n",
       "      <td>-0.031447</td>\n",
       "      <td>-0.003307</td>\n",
       "      <td>0.015957</td>\n",
       "      <td>0.016717</td>\n",
       "      <td>0.000744</td>\n",
       "      <td>1.000000</td>\n",
       "    </tr>\n",
       "  </tbody>\n",
       "</table>\n",
       "</div>"
      ],
      "text/plain": [
       "           distrito       año      hora       dia  accidente     meteo  \\\n",
       "distrito   1.000000  0.077658  0.017994 -0.022344  -0.015109 -0.001029   \n",
       "año        0.077658  1.000000 -0.060006 -0.021698  -0.013045 -0.019555   \n",
       "hora       0.017994 -0.060006  1.000000 -0.068322  -0.042051  0.020183   \n",
       "dia       -0.022344 -0.021698 -0.068322  1.000000   0.018494  0.028386   \n",
       "accidente -0.015109 -0.013045 -0.042051  0.018494   1.000000  0.006733   \n",
       "meteo     -0.001029 -0.019555  0.020183  0.028386   0.006733  1.000000   \n",
       "sexo       0.051894  0.051099 -0.076941  0.048025   0.094990  0.014201   \n",
       "lesividad -0.007987 -0.210125 -0.031447 -0.003307   0.015957  0.016717   \n",
       "\n",
       "               sexo  lesividad  \n",
       "distrito   0.051894  -0.007987  \n",
       "año        0.051099  -0.210125  \n",
       "hora      -0.076941  -0.031447  \n",
       "dia        0.048025  -0.003307  \n",
       "accidente  0.094990   0.015957  \n",
       "meteo      0.014201   0.016717  \n",
       "sexo       1.000000   0.000744  \n",
       "lesividad  0.000744   1.000000  "
      ]
     },
     "execution_count": 32,
     "metadata": {},
     "output_type": "execute_result"
    }
   ],
   "source": [
    "dfConjuntoML.corr()"
   ]
  },
  {
   "cell_type": "code",
   "execution_count": 61,
   "id": "3742c426",
   "metadata": {},
   "outputs": [
    {
     "data": {
      "text/html": [
       "<div>\n",
       "<style scoped>\n",
       "    .dataframe tbody tr th:only-of-type {\n",
       "        vertical-align: middle;\n",
       "    }\n",
       "\n",
       "    .dataframe tbody tr th {\n",
       "        vertical-align: top;\n",
       "    }\n",
       "\n",
       "    .dataframe thead th {\n",
       "        text-align: right;\n",
       "    }\n",
       "</style>\n",
       "<table border=\"1\" class=\"dataframe\">\n",
       "  <thead>\n",
       "    <tr style=\"text-align: right;\">\n",
       "      <th></th>\n",
       "      <th>distrito</th>\n",
       "      <th>lesividad</th>\n",
       "      <th>año</th>\n",
       "      <th>hora</th>\n",
       "      <th>dia</th>\n",
       "      <th>cod_accidente</th>\n",
       "      <th>cod_sexo</th>\n",
       "      <th>cod_meteorologia</th>\n",
       "    </tr>\n",
       "  </thead>\n",
       "  <tbody>\n",
       "    <tr>\n",
       "      <th>count</th>\n",
       "      <td>14839.000000</td>\n",
       "      <td>14839.000000</td>\n",
       "      <td>14839.000000</td>\n",
       "      <td>14839.000000</td>\n",
       "      <td>14839.000000</td>\n",
       "      <td>14839.000000</td>\n",
       "      <td>14839.000000</td>\n",
       "      <td>14839.000000</td>\n",
       "    </tr>\n",
       "    <tr>\n",
       "      <th>mean</th>\n",
       "      <td>9.603006</td>\n",
       "      <td>8.855853</td>\n",
       "      <td>2022.639127</td>\n",
       "      <td>14.090774</td>\n",
       "      <td>2.981805</td>\n",
       "      <td>3.361210</td>\n",
       "      <td>0.806658</td>\n",
       "      <td>0.172384</td>\n",
       "    </tr>\n",
       "    <tr>\n",
       "      <th>std</th>\n",
       "      <td>5.714428</td>\n",
       "      <td>4.928158</td>\n",
       "      <td>0.848654</td>\n",
       "      <td>5.591359</td>\n",
       "      <td>1.941403</td>\n",
       "      <td>2.287231</td>\n",
       "      <td>0.573855</td>\n",
       "      <td>0.555884</td>\n",
       "    </tr>\n",
       "    <tr>\n",
       "      <th>min</th>\n",
       "      <td>1.000000</td>\n",
       "      <td>1.000000</td>\n",
       "      <td>2020.000000</td>\n",
       "      <td>0.000000</td>\n",
       "      <td>0.000000</td>\n",
       "      <td>1.000000</td>\n",
       "      <td>0.000000</td>\n",
       "      <td>0.000000</td>\n",
       "    </tr>\n",
       "    <tr>\n",
       "      <th>25%</th>\n",
       "      <td>5.000000</td>\n",
       "      <td>6.000000</td>\n",
       "      <td>2023.000000</td>\n",
       "      <td>10.000000</td>\n",
       "      <td>1.000000</td>\n",
       "      <td>1.000000</td>\n",
       "      <td>0.000000</td>\n",
       "      <td>0.000000</td>\n",
       "    </tr>\n",
       "    <tr>\n",
       "      <th>50%</th>\n",
       "      <td>9.000000</td>\n",
       "      <td>7.000000</td>\n",
       "      <td>2023.000000</td>\n",
       "      <td>15.000000</td>\n",
       "      <td>3.000000</td>\n",
       "      <td>3.000000</td>\n",
       "      <td>1.000000</td>\n",
       "      <td>0.000000</td>\n",
       "    </tr>\n",
       "    <tr>\n",
       "      <th>75%</th>\n",
       "      <td>14.000000</td>\n",
       "      <td>14.000000</td>\n",
       "      <td>2023.000000</td>\n",
       "      <td>19.000000</td>\n",
       "      <td>5.000000</td>\n",
       "      <td>5.000000</td>\n",
       "      <td>1.000000</td>\n",
       "      <td>0.000000</td>\n",
       "    </tr>\n",
       "    <tr>\n",
       "      <th>max</th>\n",
       "      <td>21.000000</td>\n",
       "      <td>77.000000</td>\n",
       "      <td>2023.000000</td>\n",
       "      <td>23.000000</td>\n",
       "      <td>6.000000</td>\n",
       "      <td>12.000000</td>\n",
       "      <td>2.000000</td>\n",
       "      <td>4.000000</td>\n",
       "    </tr>\n",
       "  </tbody>\n",
       "</table>\n",
       "</div>"
      ],
      "text/plain": [
       "           distrito     lesividad           año          hora           dia  \\\n",
       "count  14839.000000  14839.000000  14839.000000  14839.000000  14839.000000   \n",
       "mean       9.603006      8.855853   2022.639127     14.090774      2.981805   \n",
       "std        5.714428      4.928158      0.848654      5.591359      1.941403   \n",
       "min        1.000000      1.000000   2020.000000      0.000000      0.000000   \n",
       "25%        5.000000      6.000000   2023.000000     10.000000      1.000000   \n",
       "50%        9.000000      7.000000   2023.000000     15.000000      3.000000   \n",
       "75%       14.000000     14.000000   2023.000000     19.000000      5.000000   \n",
       "max       21.000000     77.000000   2023.000000     23.000000      6.000000   \n",
       "\n",
       "       cod_accidente      cod_sexo  cod_meteorologia  \n",
       "count   14839.000000  14839.000000      14839.000000  \n",
       "mean        3.361210      0.806658          0.172384  \n",
       "std         2.287231      0.573855          0.555884  \n",
       "min         1.000000      0.000000          0.000000  \n",
       "25%         1.000000      0.000000          0.000000  \n",
       "50%         3.000000      1.000000          0.000000  \n",
       "75%         5.000000      1.000000          0.000000  \n",
       "max        12.000000      2.000000          4.000000  "
      ]
     },
     "execution_count": 61,
     "metadata": {},
     "output_type": "execute_result"
    }
   ],
   "source": [
    "dfBicisML.describe()"
   ]
  },
  {
   "cell_type": "code",
   "execution_count": 64,
   "id": "c45bc0be",
   "metadata": {},
   "outputs": [
    {
     "data": {
      "image/png": "[encoded data removed]",
      "text/plain": [
       "<Figure size 432x288 with 9 Axes>"
      ]
     },
     "metadata": {
      "needs_background": "light"
     },
     "output_type": "display_data"
    }
   ],
   "source": [
    "dfBicisML.hist()\n",
    "plt.show()"
   ]
  },
  {
   "cell_type": "code",
   "execution_count": 23,
   "id": "bd6d39e8",
   "metadata": {},
   "outputs": [
    {
     "name": "stdout",
     "output_type": "stream",
     "text": [
      "lesividad\n",
      "1     1115\n",
      "2     1514\n",
      "3      435\n",
      "4       13\n",
      "5      536\n",
      "6      913\n",
      "7     3813\n",
      "14    6499\n",
      "77       1\n",
      "dtype: int64\n"
     ]
    }
   ],
   "source": [
    "# Veamos realmente cuantas tipos de lesividad tenemos:\n",
    "print(dfBicisML.groupby('lesividad').size())"
   ]
  },
  {
   "cell_type": "code",
   "execution_count": 24,
   "id": "00fffafc",
   "metadata": {},
   "outputs": [
    {
     "name": "stderr",
     "output_type": "stream",
     "text": [
      "C:\\Users\\javi4\\anaconda3\\lib\\site-packages\\seaborn\\categorical.py:3717: UserWarning: The `factorplot` function has been renamed to `catplot`. The original name will be removed in a future release. Please update your code. Note that the default `kind` in `factorplot` (`'point'`) has changed `'strip'` in `catplot`.\n",
      "  warnings.warn(msg)\n",
      "C:\\Users\\javi4\\anaconda3\\lib\\site-packages\\seaborn\\_decorators.py:36: FutureWarning: Pass the following variable as a keyword arg: x. From version 0.12, the only valid positional argument will be `data`, and passing other arguments without an explicit keyword will result in an error or misinterpretation.\n",
      "  warnings.warn(\n"
     ]
    },
    {
     "data": {
      "text/plain": [
       "<seaborn.axisgrid.FacetGrid at 0x160f66efe20>"
      ]
     },
     "execution_count": 24,
     "metadata": {},
     "output_type": "execute_result"
    },
    {
     "data": {
      "image/png": "[encoded data removed]",
      "text/plain": [
       "<Figure size 1080x360 with 1 Axes>"
      ]
     },
     "metadata": {
      "needs_background": "light"
     },
     "output_type": "display_data"
    }
   ],
   "source": [
    "sb.factorplot('lesividad',data=dfBicisML,kind=\"count\", aspect=3)"
   ]
  },
  {
   "cell_type": "markdown",
   "id": "f65ca6a3",
   "metadata": {},
   "source": [
    "# Preparamos las entradas\n",
    "#### Creamos nuestro X e y de entrada y los sets de entrenamiento y test. Para ello vamos a intentar predicir la lesividad pues es lo que queremos intentar evitar"
   ]
  },
  {
   "cell_type": "code",
   "execution_count": 31,
   "id": "3f9cc15a",
   "metadata": {},
   "outputs": [],
   "source": [
    "X = dfBicisML[['distrito','año', 'hora', 'dia', 'cod_accidente', 'cod_sexo', 'cod_meteorologia']].values\n",
    "y = dfBicisML['lesividad'].values\n",
    " \n",
    "X_train, X_test, y_train, y_test = train_test_split(X, y, test_size=0.2, random_state=0)\n",
    "scaler = MinMaxScaler()\n",
    "X_train = scaler.fit_transform(X_train)\n",
    "X_test = scaler.transform(X_test)"
   ]
  },
  {
   "cell_type": "markdown",
   "id": "bf89c392",
   "metadata": {},
   "source": [
    "## Usemos k-Nearest Neighbor con Scikit Learn\n",
    "#### Definimos el valor de k en 7 y creamos nuestro clasificador.\n",
    "NOTA: Utilizamos la clase KNeighborsClassifier de SciKit Learn puesto que nuestras etiquetas son valores discretos (estrellas del 1 al 5). Pero deben saber que también existe la clase KneighborsRegressor para etiquetas con valores continuos."
   ]
  },
  {
   "cell_type": "markdown",
   "id": "0790d16f",
   "metadata": {},
   "source": [
    "En este ejercicio creamos un modelo con Python para procesar y clasificar puntos de un conjunto de entrada con el algoritmo k-Nearest Neighbor. Cómo su nombre en inglés lo dice, se evaluán los “k vecinos más cercanos” para poder clasificar nuevos puntos. Al ser un algoritmo supervisado debemos contar con suficientes muestras etiquetadas para poder entrenar el modelo con buenos resultados. Este algoritmo es bastante simple y -como vimos antes- necesitamos muchos recursos de memoria y cpu para mantener el dataset “vivo” y evaluar nuevos puntos. Esto no lo hace recomendable para conjuntos de datos muy grandes. En el ejemplo, sólo utilizamos 2 dimensiones de entrada para poder graficar y ver en dos dimensiones cómo se obtienen y delimitan los grupos. Finalmente pudimos hacer nuevas predicciones y a raíz de los resultados, comprender mejor la problemática planteada."
   ]
  },
  {
   "cell_type": "code",
   "execution_count": 33,
   "id": "c4e0bdd2",
   "metadata": {
    "scrolled": true
   },
   "outputs": [
    {
     "name": "stdout",
     "output_type": "stream",
     "text": [
      "Accuracy of K-NN classifier on training set: 0.49\n",
      "Accuracy of K-NN classifier on test set: 0.44\n"
     ]
    }
   ],
   "source": [
    "n_neighbors = 19\n",
    " \n",
    "knn = KNeighborsClassifier(n_neighbors)\n",
    "knn.fit(X_train, y_train)\n",
    "print('Accuracy of K-NN classifier on training set: {:.2f}'\n",
    "     .format(knn.score(X_train, y_train)))\n",
    "print('Accuracy of K-NN classifier on test set: {:.2f}'\n",
    "     .format(knn.score(X_test, y_test)))"
   ]
  },
  {
   "cell_type": "markdown",
   "id": "83756e3a",
   "metadata": {},
   "source": [
    "Elegir el mejor valor de k\n",
    "(sobre todo importante para desempatar o elegir los puntos frontera!)\n",
    "Antes vimos que asignamos el valor n_neighbors=7 como valor de “k” y obtuvimos buenos resultados. ¿Pero de donde salió ese valor?. Pues realmente tuve que ejecutar este código que viene a continuación, donde vemos distintos valores k y la precisión obtenida."
   ]
  },
  {
   "cell_type": "code",
   "execution_count": 32,
   "id": "37de9f37",
   "metadata": {},
   "outputs": [
    {
     "data": {
      "text/plain": [
       "([<matplotlib.axis.XTick at 0x160f90f34c0>,\n",
       "  <matplotlib.axis.XTick at 0x160f90f3490>,\n",
       "  <matplotlib.axis.XTick at 0x160f90edb50>,\n",
       "  <matplotlib.axis.XTick at 0x160f910ddf0>,\n",
       "  <matplotlib.axis.XTick at 0x160f9122910>],\n",
       " [Text(0, 0, ''),\n",
       "  Text(0, 0, ''),\n",
       "  Text(0, 0, ''),\n",
       "  Text(0, 0, ''),\n",
       "  Text(0, 0, '')])"
      ]
     },
     "execution_count": 32,
     "metadata": {},
     "output_type": "execute_result"
    },
    {
     "data": {
      "image/png": "[encoded data removed]",
      "text/plain": [
       "<Figure size 432x288 with 1 Axes>"
      ]
     },
     "metadata": {
      "needs_background": "light"
     },
     "output_type": "display_data"
    }
   ],
   "source": [
    "k_range = range(1, 20)\n",
    "scores = []\n",
    "for k in k_range:\n",
    "    knn = KNeighborsClassifier(n_neighbors = k)\n",
    "    knn.fit(X_train, y_train)\n",
    "    scores.append(knn.score(X_test, y_test))\n",
    "plt.figure()\n",
    "plt.xlabel('k')\n",
    "plt.ylabel('accuracy')\n",
    "plt.scatter(k_range, scores)\n",
    "plt.xticks([0,5,10,15,20])"
   ]
  },
  {
   "cell_type": "markdown",
   "id": "abb566dd",
   "metadata": {},
   "source": [
    "Probando el modelo\n",
    "Una vez que se entrena el modelo, podemos usar la función 'predecir' en nuestro modelo para hacer predicciones en nuestros datos de prueba. Como se vio al inspeccionar 'y' anteriormente son las más probables de ocurrir, 7 indica el tipo de lesividad \"Asistencia sanitaria sólo en el lugar del accidente\" y 14 indica el tipo de lesividad \"Sin asistencia sanitaria\". Para ahorrar espacio, solo mostraremos las primeras 5 predicciones de nuestro conjunto de prueba, de aquí deducimos que para los próximos 5 accidentes dos sería de lesividad 7 y 3 de lesividad 14."
   ]
  },
  {
   "cell_type": "code",
   "execution_count": 125,
   "id": "a25de568",
   "metadata": {},
   "outputs": [
    {
     "data": {
      "text/plain": [
       "array([ 7, 14,  7, 14, 14, 14, 14], dtype=int64)"
      ]
     },
     "execution_count": 125,
     "metadata": {},
     "output_type": "execute_result"
    }
   ],
   "source": [
    "knn.predict(X_test)[0:7]"
   ]
  },
  {
   "cell_type": "code",
   "execution_count": 91,
   "id": "7306f097",
   "metadata": {},
   "outputs": [
    {
     "name": "stdout",
     "output_type": "stream",
     "text": [
      "[[0.15384614 0.15384627 0.         ... 0.46153829 0.15384624 0.        ]\n",
      " [0.15384616 0.15384623 0.         ... 0.46153833 0.15384625 0.        ]\n",
      " [0.23076912 0.15384624 0.         ... 0.38461535 0.15384629 0.        ]\n",
      " ...\n",
      " [0.15384613 0.15384626 0.         ... 0.46153829 0.15384627 0.        ]\n",
      " [0.23076913 0.15384621 0.         ... 0.38461538 0.15384628 0.        ]\n",
      " [0.23076915 0.07692322 0.         ... 0.46153837 0.15384628 0.        ]]\n"
     ]
    }
   ],
   "source": [
    "h = .02  # step size in the mesh \n",
    "# we create an instance of Neighbours Classifier and fit the data.\n",
    "clf = KNeighborsClassifier(n_neighbors, weights='distance')\n",
    "clf.fit(X, y)\n",
    "print(clf.predict_proba(X_test))"
   ]
  },
  {
   "cell_type": "code",
   "execution_count": 114,
   "id": "55dae706",
   "metadata": {},
   "outputs": [
    {
     "name": "stderr",
     "output_type": "stream",
     "text": [
      "C:\\Users\\javi4\\anaconda3\\lib\\site-packages\\sklearn\\model_selection\\_split.py:666: UserWarning: The least populated class in y has only 1 members, which is less than n_splits=7.\n",
      "  warnings.warn((\"The least populated class in y has only %d\"\n"
     ]
    },
    {
     "name": "stdout",
     "output_type": "stream",
     "text": [
      "[0.39339623 0.35896226 0.36320755 0.38962264 0.39433962 0.38066038\n",
      " 0.3916942 ]\n",
      "cv_scores mean:0.3816975535172086\n"
     ]
    }
   ],
   "source": [
    "#crear un nuevo modelo KNN \n",
    "knn_cv = KNeighborsClassifier(n_neighbors=13)\n",
    "#entrenar modelo con cv de 5 \n",
    "cv_scores = cross_val_score(knn_cv, X, y, cv=7)\n",
    "#imprime cada puntaje cv (precisión) y promedialos \n",
    "print(cv_scores) \n",
    "print('cv_scores mean:{}'.format(np.mean(cv_scores)))"
   ]
  },
  {
   "cell_type": "code",
   "execution_count": 123,
   "id": "765b23fe",
   "metadata": {},
   "outputs": [
    {
     "name": "stdout",
     "output_type": "stream",
     "text": [
      "[[  14   21    0    0    1    4   94  151]\n",
      " [  18   31    1    0    0    5   98  220]\n",
      " [   1   10    1    0    0    1   29   64]\n",
      " [   0    0    0    0    0    0    0    3]\n",
      " [   2   11    0    0    0    0   35  100]\n",
      " [   6   20    1    0    0    6   75  137]\n",
      " [  26   40    1    0    0    6  242  631]\n",
      " [  10   36    0    0    2    9  245 1302]]\n",
      "              precision    recall  f1-score   support\n",
      "\n",
      "           1       0.18      0.05      0.08       285\n",
      "           2       0.18      0.08      0.11       373\n",
      "           3       0.25      0.01      0.02       106\n",
      "           4       0.00      0.00      0.00         3\n",
      "           5       0.00      0.00      0.00       148\n",
      "           6       0.19      0.02      0.04       245\n",
      "           7       0.30      0.26      0.27       946\n",
      "          14       0.50      0.81      0.62      1604\n",
      "\n",
      "    accuracy                           0.43      3710\n",
      "   macro avg       0.20      0.15      0.14      3710\n",
      "weighted avg       0.34      0.43      0.36      3710\n",
      "\n"
     ]
    },
    {
     "name": "stderr",
     "output_type": "stream",
     "text": [
      "C:\\Users\\javi4\\anaconda3\\lib\\site-packages\\sklearn\\metrics\\_classification.py:1248: UndefinedMetricWarning: Precision and F-score are ill-defined and being set to 0.0 in labels with no predicted samples. Use `zero_division` parameter to control this behavior.\n",
      "  _warn_prf(average, modifier, msg_start, len(result))\n",
      "C:\\Users\\javi4\\anaconda3\\lib\\site-packages\\sklearn\\metrics\\_classification.py:1248: UndefinedMetricWarning: Precision and F-score are ill-defined and being set to 0.0 in labels with no predicted samples. Use `zero_division` parameter to control this behavior.\n",
      "  _warn_prf(average, modifier, msg_start, len(result))\n",
      "C:\\Users\\javi4\\anaconda3\\lib\\site-packages\\sklearn\\metrics\\_classification.py:1248: UndefinedMetricWarning: Precision and F-score are ill-defined and being set to 0.0 in labels with no predicted samples. Use `zero_division` parameter to control this behavior.\n",
      "  _warn_prf(average, modifier, msg_start, len(result))\n"
     ]
    }
   ],
   "source": [
    "pred = knn.predict(X_test)\n",
    "print(confusion_matrix(y_test, pred))\n",
    "print(classification_report(y_test, pred))"
   ]
  },
  {
   "cell_type": "markdown",
   "id": "191fb524",
   "metadata": {},
   "source": [
    "# RANDOM FOREST"
   ]
  },
  {
   "cell_type": "markdown",
   "id": "73ccc55e",
   "metadata": {},
   "source": [
    "El segundo modelo de machine learning se va a desarrollar usando un algoritmo de clasificación Random Forest, que se basa en una combinación de árboles predictores, tal que cada árbol depende de los valores de un vector aleatorio probado independientemente y con la misma distribución para cada uno de estos."
   ]
  },
  {
   "cell_type": "markdown",
   "id": "f3bac014",
   "metadata": {},
   "source": [
    "Utilizaremos el modelo RandomForrestClassifier de SkLearn.\n"
   ]
  },
  {
   "cell_type": "code",
   "execution_count": 133,
   "id": "6a2fddf4",
   "metadata": {},
   "outputs": [],
   "source": [
    "from sklearn.ensemble import RandomForestRegressor\n",
    "from sklearn.metrics import mean_squared_error"
   ]
  },
  {
   "cell_type": "code",
   "execution_count": 129,
   "id": "807f3953",
   "metadata": {},
   "outputs": [
    {
     "name": "stdout",
     "output_type": "stream",
     "text": [
      "Random Forest Accuracy: -0.1788343928551892\n"
     ]
    }
   ],
   "source": [
    "model = RandomForestRegressor(n_estimators=100, random_state=42)\n",
    "model.fit(X_train, y_train)\n",
    "print(f\"Random Forest Accuracy: {model.score(X_test, y_test)}\")"
   ]
  },
  {
   "cell_type": "code",
   "execution_count": 131,
   "id": "c48b1606",
   "metadata": {},
   "outputs": [
    {
     "data": {
      "text/plain": [
       "array([ 3.515     , 11.1225    ,  4.35      , ...,  7.72866667,\n",
       "        7.37347619, 12.49707143])"
      ]
     },
     "execution_count": 131,
     "metadata": {},
     "output_type": "execute_result"
    }
   ],
   "source": [
    "y_pred = model.predict(X_test)\n",
    "y_pred"
   ]
  },
  {
   "cell_type": "code",
   "execution_count": 135,
   "id": "31194042",
   "metadata": {},
   "outputs": [
    {
     "data": {
      "text/plain": [
       "28.189393669323103"
      ]
     },
     "execution_count": 135,
     "metadata": {},
     "output_type": "execute_result"
    }
   ],
   "source": [
    "mse = mean_squared_error(y_test, y_pred)\n",
    "mse"
   ]
  },
  {
   "cell_type": "code",
   "execution_count": 118,
   "id": "dfc294c8",
   "metadata": {},
   "outputs": [
    {
     "name": "stderr",
     "output_type": "stream",
     "text": [
      "[Parallel(n_jobs=1)]: Using backend SequentialBackend with 1 concurrent workers.\n",
      "[Parallel(n_jobs=1)]: Done   1 out of   1 | elapsed:    0.0s remaining:    0.0s\n"
     ]
    },
    {
     "name": "stdout",
     "output_type": "stream",
     "text": [
      "building tree 1 of 100\n",
      "building tree 2 of 100\n",
      "building tree 3 of 100\n",
      "building tree 4 of 100\n",
      "building tree 5 of 100\n",
      "building tree 6 of 100\n",
      "building tree 7 of 100\n",
      "building tree 8 of 100\n",
      "building tree 9 of 100\n",
      "building tree 10 of 100\n",
      "building tree 11 of 100\n",
      "building tree 12 of 100\n",
      "building tree 13 of 100\n",
      "building tree 14 of 100\n",
      "building tree 15 of 100\n",
      "building tree 16 of 100\n",
      "building tree 17 of 100\n",
      "building tree 18 of 100\n",
      "building tree 19 of 100\n",
      "building tree 20 of 100\n",
      "building tree 21 of 100\n",
      "building tree 22 of 100\n",
      "building tree 23 of 100\n",
      "building tree 24 of 100\n",
      "building tree 25 of 100\n",
      "building tree 26 of 100\n",
      "building tree 27 of 100\n",
      "building tree 28 of 100\n",
      "building tree 29 of 100\n",
      "building tree 30 of 100\n",
      "building tree 31 of 100\n",
      "building tree 32 of 100\n",
      "building tree 33 of 100\n",
      "building tree 34 of 100\n",
      "building tree 35 of 100\n",
      "building tree 36 of 100\n",
      "building tree 37 of 100\n",
      "building tree 38 of 100\n",
      "building tree 39 of 100\n",
      "building tree 40 of 100\n",
      "building tree 41 of 100\n",
      "building tree 42 of 100\n",
      "building tree 43 of 100\n",
      "building tree 44 of 100\n",
      "building tree 45 of 100\n",
      "building tree 46 of 100\n",
      "building tree 47 of 100\n",
      "building tree 48 of 100\n",
      "building tree 49 of 100\n",
      "building tree 50 of 100\n",
      "building tree 51 of 100\n",
      "building tree 52 of 100\n",
      "building tree 53 of 100\n",
      "building tree 54 of 100\n",
      "building tree 55 of 100\n",
      "building tree 56 of 100\n",
      "building tree 57 of 100\n",
      "building tree 58 of 100\n",
      "building tree 59 of 100\n",
      "building tree 60 of 100\n",
      "building tree 61 of 100\n",
      "building tree 62 of 100\n",
      "building tree 63 of 100\n",
      "building tree 64 of 100\n",
      "building tree 65 of 100\n",
      "building tree 66 of 100\n",
      "building tree 67 of 100\n",
      "building tree 68 of 100\n",
      "building tree 69 of 100\n",
      "building tree 70 of 100\n",
      "building tree 71 of 100\n",
      "building tree 72 of 100\n",
      "building tree 73 of 100\n",
      "building tree 74 of 100\n",
      "building tree 75 of 100\n",
      "building tree 76 of 100\n",
      "building tree 77 of 100\n",
      "building tree 78 of 100\n",
      "building tree 79 of 100\n",
      "building tree 80 of 100\n",
      "building tree 81 of 100\n",
      "building tree 82 of 100\n",
      "building tree 83 of 100\n",
      "building tree 84 of 100\n",
      "building tree 85 of 100\n",
      "building tree 86 of 100\n",
      "building tree 87 of 100\n",
      "building tree 88 of 100\n",
      "building tree 89 of 100\n",
      "building tree 90 of 100\n",
      "building tree 91 of 100\n",
      "building tree 92 of 100\n",
      "building tree 93 of 100\n",
      "building tree 94 of 100\n",
      "building tree 95 of 100\n",
      "building tree 96 of 100\n",
      "building tree 97 of 100\n",
      "building tree 98 of 100\n",
      "building tree 99 of 100\n",
      "building tree 100 of 100\n"
     ]
    },
    {
     "name": "stderr",
     "output_type": "stream",
     "text": [
      "[Parallel(n_jobs=1)]: Done 100 out of 100 | elapsed:    3.0s finished\n",
      "[Parallel(n_jobs=1)]: Using backend SequentialBackend with 1 concurrent workers.\n",
      "[Parallel(n_jobs=1)]: Done   1 out of   1 | elapsed:    0.0s remaining:    0.0s\n"
     ]
    },
    {
     "name": "stdout",
     "output_type": "stream",
     "text": [
      "RF Accuracy: 0.37358490566037733\n"
     ]
    },
    {
     "name": "stderr",
     "output_type": "stream",
     "text": [
      "[Parallel(n_jobs=1)]: Done 100 out of 100 | elapsed:    0.2s finished\n"
     ]
    }
   ],
   "source": [
    "# Crear el modelo con 100 arboles\n",
    "model = RandomForestClassifier(n_estimators=100, \n",
    "                               bootstrap = True, \n",
    "                               verbose=2,\n",
    "                               max_features = 'auto')\n",
    "# a entrenar!\n",
    "model.fit(X_train, y_train)\n",
    "print(f\"RF Accuracy: {model.score(X_test, y_test)}\")"
   ]
  },
  {
   "cell_type": "code",
   "execution_count": null,
   "id": "dc246d85",
   "metadata": {},
   "outputs": [],
   "source": [
    "Con este algoritmo obtenemos un accuracy de 37%."
   ]
  },
  {
   "cell_type": "code",
   "execution_count": null,
   "id": "c19ec33e",
   "metadata": {},
   "outputs": [
    {
     "name": "stderr",
     "output_type": "stream",
     "text": [
      "C:\\Users\\javi4\\anaconda3\\lib\\site-packages\\sklearn\\model_selection\\_split.py:666: UserWarning: The least populated class in y has only 1 members, which is less than n_splits=5.\n",
      "  warnings.warn((\"The least populated class in y has only %d\"\n"
     ]
    }
   ],
   "source": [
    "from sklearn import svm, datasets\n",
    "from sklearn.model_selection import GridSearchCV\n",
    "param_grid = {'kernel': ['linear'], 'C':[1, 100, 1000],\n",
    "              'gamma': [1e-3, 1e-4]}\n",
    "svc = svm.SVC(gamma=\"scale\")\n",
    "clf = GridSearchCV(svc, param_grid, cv=5)\n",
    "clf.fit(X_train, y_train)\n",
    "df = pd.concat([pd.DataFrame(clf.cv_results_[\"params\"]),\n",
    "                pd.DataFrame(clf.cv_results_[\"mean_test_score\"],\n",
    "                              columns=[\"Accuracy\"])],\n",
    "               axis=1)"
   ]
  },
  {
   "cell_type": "markdown",
   "id": "74595891",
   "metadata": {},
   "source": [
    "# Regresion lineal simple"
   ]
  },
  {
   "cell_type": "code",
   "execution_count": 26,
   "id": "15fcd4ea",
   "metadata": {},
   "outputs": [],
   "source": [
    "from sklearn import linear_model\n",
    "from sklearn.metrics import mean_squared_error, r2_score"
   ]
  },
  {
   "cell_type": "code",
   "execution_count": 35,
   "id": "70476475",
   "metadata": {},
   "outputs": [
    {
     "name": "stdout",
     "output_type": "stream",
     "text": [
      "Coefficients: \n",
      " [-0.18084209  4.87301764  0.75406166 -0.14552949 -0.23376946  0.07741993\n",
      " -0.31093318]\n",
      "Independent term: \n",
      " 4.299940581353823\n",
      "Mean squared error: 22.50\n",
      "Variance score: 0.08\n"
     ]
    }
   ],
   "source": [
    "# Creamos el objeto de Regresión Linear\n",
    "regr = linear_model.LinearRegression()\n",
    "\n",
    "# Entrenamos nuestro modelo\n",
    "regr.fit(X_train, y_train)\n",
    "\n",
    "# Hacemos las predicciones que en definitiva una línea (en este caso, al ser 2D)\n",
    "y_pred = regr.predict(X_train)\n",
    "\n",
    "# Veamos los coeficienetes obtenidos, En nuestro caso, serán la Tangente\n",
    "print('Coefficients: \\n', regr.coef_)\n",
    "# Este es el valor donde corta el eje Y (en X=0)\n",
    "print('Independent term: \\n', regr.intercept_)\n",
    "# Error Cuadrado Medio\n",
    "print(\"Mean squared error: %.2f\" % mean_squared_error(y_train, y_pred))\n",
    "# Puntaje de Varianza. El mejor puntaje es un 1.0\n",
    "print('Variance score: %.2f' % r2_score(y_train, y_pred))"
   ]
  },
  {
   "cell_type": "code",
   "execution_count": 36,
   "id": "34e16bbc",
   "metadata": {},
   "outputs": [
    {
     "name": "stdout",
     "output_type": "stream",
     "text": [
      "[6.15020997 9.526154   9.01772794 ... 9.70024319 7.99936276 9.01957588]\n"
     ]
    }
   ],
   "source": [
    "#Vamos a comprobar:\n",
    "y_validation = regr.predict(X_test)\n",
    "print(y_validation)"
   ]
  },
  {
   "cell_type": "code",
   "execution_count": null,
   "id": "b373a86f",
   "metadata": {},
   "outputs": [],
   "source": []
  }
 ],
 "metadata": {
  "kernelspec": {
   "display_name": "Python 3 (ipykernel)",
   "language": "python",
   "name": "python3"
  },
  "language_info": {
   "codemirror_mode": {
    "name": "ipython",
    "version": 3
   },
   "file_extension": ".py",
   "mimetype": "text/x-python",
   "name": "python",
   "nbconvert_exporter": "python",
   "pygments_lexer": "ipython3",
   "version": "3.9.7"
  }
 },
 "nbformat": 4,
 "nbformat_minor": 5
}
