{
 "cells": [
  {
   "cell_type": "markdown",
   "id": "88977fc9",
   "metadata": {},
   "source": [
    "# Desarrollo de machine learning accidentes de bicicleta"
   ]
  },
  {
   "cell_type": "markdown",
   "id": "3f3d8a1f",
   "metadata": {},
   "source": [
    "#### Cargamos las librerias necesarias"
   ]
  },
  {
   "cell_type": "code",
   "execution_count": 81,
   "id": "11cc7114",
   "metadata": {},
   "outputs": [
    {
     "ename": "ModuleNotFoundError",
     "evalue": "No module named 'feature_engine'",
     "output_type": "error",
     "traceback": [
      "\u001b[1;31m---------------------------------------------------------------------------\u001b[0m",
      "\u001b[1;31mModuleNotFoundError\u001b[0m                       Traceback (most recent call last)",
      "\u001b[1;32m~\\AppData\\Local\\Temp/ipykernel_6712/4099325222.py\u001b[0m in \u001b[0;36m<module>\u001b[1;34m\u001b[0m\n\u001b[0;32m      5\u001b[0m \u001b[1;32mfrom\u001b[0m \u001b[0msklearn\u001b[0m\u001b[1;33m.\u001b[0m\u001b[0mimpute\u001b[0m \u001b[1;32mimport\u001b[0m \u001b[0mKNNImputer\u001b[0m\u001b[1;33m\u001b[0m\u001b[1;33m\u001b[0m\u001b[0m\n\u001b[0;32m      6\u001b[0m \u001b[1;32mfrom\u001b[0m \u001b[0msklearn\u001b[0m\u001b[1;33m.\u001b[0m\u001b[0mpreprocessing\u001b[0m \u001b[1;32mimport\u001b[0m \u001b[0mOrdinalEncoder\u001b[0m\u001b[1;33m\u001b[0m\u001b[1;33m\u001b[0m\u001b[0m\n\u001b[1;32m----> 7\u001b[1;33m \u001b[1;32mfrom\u001b[0m \u001b[0mfeature_engine\u001b[0m\u001b[1;33m.\u001b[0m\u001b[0mimputation\u001b[0m \u001b[1;32mimport\u001b[0m \u001b[0mCategoricalImputer\u001b[0m\u001b[1;33m\u001b[0m\u001b[1;33m\u001b[0m\u001b[0m\n\u001b[0m",
      "\u001b[1;31mModuleNotFoundError\u001b[0m: No module named 'feature_engine'"
     ]
    }
   ],
   "source": [
    "import numpy as np\n",
    "import pandas as pd\n",
    "\n",
    "# import the KNNimputer class\n",
    "from sklearn.impute import KNNImputer\n",
    "from sklearn.preprocessing import OrdinalEncoder\n",
    "from feature_engine.imputation import CategoricalImputer"
   ]
  },
  {
   "cell_type": "markdown",
   "id": "ab0d1da6",
   "metadata": {},
   "source": [
    "#### Primero vamos a obtener los datos de datos.madrid.es, en primer lugar obtendremos todos los datos disponibles desde 2020 inicio de la pandemia hasta hoy 2023"
   ]
  },
  {
   "cell_type": "markdown",
   "id": "938d11d2",
   "metadata": {},
   "source": [
    "#### Estos serán nuestros ficheros de estudio: \n",
    "* AccidentesBicicletas_2020.xlsx \n",
    "* AccidentesBicicletas_2021.xlsx \n",
    "* AccidentesBicicletas_2022.xlsx \n",
    "* AccidentesBicicletas_2023.xlsx\n"
   ]
  },
  {
   "cell_type": "markdown",
   "id": "4bb9e452",
   "metadata": {},
   "source": [
    "##Carga de datos y preprocesado"
   ]
  },
  {
   "cell_type": "code",
   "execution_count": 40,
   "id": "262be9e0",
   "metadata": {},
   "outputs": [
    {
     "data": {
      "text/html": [
       "<div>\n",
       "<style scoped>\n",
       "    .dataframe tbody tr th:only-of-type {\n",
       "        vertical-align: middle;\n",
       "    }\n",
       "\n",
       "    .dataframe tbody tr th {\n",
       "        vertical-align: top;\n",
       "    }\n",
       "\n",
       "    .dataframe thead th {\n",
       "        text-align: right;\n",
       "    }\n",
       "</style>\n",
       "<table border=\"1\" class=\"dataframe\">\n",
       "  <thead>\n",
       "    <tr style=\"text-align: right;\">\n",
       "      <th></th>\n",
       "      <th>num_expediente</th>\n",
       "      <th>fecha</th>\n",
       "      <th>hora</th>\n",
       "      <th>localizacion</th>\n",
       "      <th>numero</th>\n",
       "      <th>cod_distrito</th>\n",
       "      <th>distrito</th>\n",
       "      <th>tipo_accidente</th>\n",
       "      <th>estado_meteorológico</th>\n",
       "      <th>tipo_vehículo</th>\n",
       "      <th>tipo_persona</th>\n",
       "      <th>rango_edad</th>\n",
       "      <th>sexo</th>\n",
       "      <th>cod_lesividad</th>\n",
       "      <th>lesividad</th>\n",
       "      <th>coordenada_x_utm</th>\n",
       "      <th>coordenada_y_utm</th>\n",
       "      <th>positiva_alcohol</th>\n",
       "      <th>positiva_droga</th>\n",
       "      <th>tipo_vehiculo</th>\n",
       "    </tr>\n",
       "  </thead>\n",
       "  <tbody>\n",
       "    <tr>\n",
       "      <th>0</th>\n",
       "      <td>2020S000044</td>\n",
       "      <td>2020-01-02</td>\n",
       "      <td>07:30:00</td>\n",
       "      <td>CALL. ALBASANZ / CALL. RUFINO GONZALEZ</td>\n",
       "      <td>23</td>\n",
       "      <td>20.0</td>\n",
       "      <td>SAN BLAS-CANILLEJAS</td>\n",
       "      <td>Colisión frontal</td>\n",
       "      <td>Despejado</td>\n",
       "      <td>Bicicleta</td>\n",
       "      <td>Conductor</td>\n",
       "      <td>De 40 a 44 años</td>\n",
       "      <td>Hombre</td>\n",
       "      <td>7.0</td>\n",
       "      <td>Asistencia sanitaria sólo en el lugar del acci...</td>\n",
       "      <td>4.468640e+08</td>\n",
       "      <td>4.476526e+09</td>\n",
       "      <td>N</td>\n",
       "      <td>NaN</td>\n",
       "      <td>NaN</td>\n",
       "    </tr>\n",
       "    <tr>\n",
       "      <th>1</th>\n",
       "      <td>2020S000151</td>\n",
       "      <td>2020-01-04</td>\n",
       "      <td>13:45:00</td>\n",
       "      <td>CALL. ORENSE, 12</td>\n",
       "      <td>12</td>\n",
       "      <td>6.0</td>\n",
       "      <td>TETUÁN</td>\n",
       "      <td>Caída</td>\n",
       "      <td>Despejado</td>\n",
       "      <td>Bicicleta</td>\n",
       "      <td>Conductor</td>\n",
       "      <td>De 21 a 24 años</td>\n",
       "      <td>Hombre</td>\n",
       "      <td>7.0</td>\n",
       "      <td>Asistencia sanitaria sólo en el lugar del acci...</td>\n",
       "      <td>4.410475e+08</td>\n",
       "      <td>4.477835e+09</td>\n",
       "      <td>N</td>\n",
       "      <td>NaN</td>\n",
       "      <td>NaN</td>\n",
       "    </tr>\n",
       "    <tr>\n",
       "      <th>2</th>\n",
       "      <td>2020S000153</td>\n",
       "      <td>2020-01-04</td>\n",
       "      <td>12:10:00</td>\n",
       "      <td>CALL. NUESTRA SEÑORA DE VALVERDE, 209</td>\n",
       "      <td>209</td>\n",
       "      <td>8.0</td>\n",
       "      <td>FUENCARRAL-EL PARDO</td>\n",
       "      <td>Colisión múltiple</td>\n",
       "      <td>Despejado</td>\n",
       "      <td>Bicicleta</td>\n",
       "      <td>Conductor</td>\n",
       "      <td>De 10 a 14 años</td>\n",
       "      <td>Hombre</td>\n",
       "      <td>1.0</td>\n",
       "      <td>Atención en urgencias sin posterior ingreso</td>\n",
       "      <td>4.419754e+08</td>\n",
       "      <td>4.484542e+09</td>\n",
       "      <td>N</td>\n",
       "      <td>NaN</td>\n",
       "      <td>NaN</td>\n",
       "    </tr>\n",
       "    <tr>\n",
       "      <th>3</th>\n",
       "      <td>2020S000153</td>\n",
       "      <td>2020-01-04</td>\n",
       "      <td>12:10:00</td>\n",
       "      <td>CALL. NUESTRA SEÑORA DE VALVERDE, 209</td>\n",
       "      <td>209</td>\n",
       "      <td>8.0</td>\n",
       "      <td>FUENCARRAL-EL PARDO</td>\n",
       "      <td>Colisión múltiple</td>\n",
       "      <td>Despejado</td>\n",
       "      <td>Bicicleta</td>\n",
       "      <td>Conductor</td>\n",
       "      <td>De 45 a 49 años</td>\n",
       "      <td>Hombre</td>\n",
       "      <td>2.0</td>\n",
       "      <td>Ingreso inferior o igual a 24 horas</td>\n",
       "      <td>4.419754e+08</td>\n",
       "      <td>4.484542e+09</td>\n",
       "      <td>N</td>\n",
       "      <td>NaN</td>\n",
       "      <td>NaN</td>\n",
       "    </tr>\n",
       "    <tr>\n",
       "      <th>4</th>\n",
       "      <td>2020S000212</td>\n",
       "      <td>2020-01-04</td>\n",
       "      <td>13:30:00</td>\n",
       "      <td>M-605, KM 1,600 SOMONTES (CAMINO)</td>\n",
       "      <td>20</td>\n",
       "      <td>8.0</td>\n",
       "      <td>FUENCARRAL-EL PARDO</td>\n",
       "      <td>Caída</td>\n",
       "      <td>Despejado</td>\n",
       "      <td>Bicicleta</td>\n",
       "      <td>Conductor</td>\n",
       "      <td>De 35 a 39 años</td>\n",
       "      <td>Hombre</td>\n",
       "      <td>6.0</td>\n",
       "      <td>Asistencia sanitaria inmediata en centro de sa...</td>\n",
       "      <td>4.391659e+08</td>\n",
       "      <td>4.484558e+09</td>\n",
       "      <td>N</td>\n",
       "      <td>NaN</td>\n",
       "      <td>NaN</td>\n",
       "    </tr>\n",
       "    <tr>\n",
       "      <th>...</th>\n",
       "      <td>...</td>\n",
       "      <td>...</td>\n",
       "      <td>...</td>\n",
       "      <td>...</td>\n",
       "      <td>...</td>\n",
       "      <td>...</td>\n",
       "      <td>...</td>\n",
       "      <td>...</td>\n",
       "      <td>...</td>\n",
       "      <td>...</td>\n",
       "      <td>...</td>\n",
       "      <td>...</td>\n",
       "      <td>...</td>\n",
       "      <td>...</td>\n",
       "      <td>...</td>\n",
       "      <td>...</td>\n",
       "      <td>...</td>\n",
       "      <td>...</td>\n",
       "      <td>...</td>\n",
       "      <td>...</td>\n",
       "    </tr>\n",
       "    <tr>\n",
       "      <th>12183</th>\n",
       "      <td>2023S013443</td>\n",
       "      <td>2023-03-31</td>\n",
       "      <td>13:30:00</td>\n",
       "      <td>CALL. MENDEZ ALVARO / CALL. RETAMA</td>\n",
       "      <td>93</td>\n",
       "      <td>13.0</td>\n",
       "      <td>PUENTE DE VALLECAS</td>\n",
       "      <td>Alcance</td>\n",
       "      <td>Despejado</td>\n",
       "      <td>NaN</td>\n",
       "      <td>Conductor</td>\n",
       "      <td>De 25 a 29 años</td>\n",
       "      <td>Hombre</td>\n",
       "      <td>NaN</td>\n",
       "      <td>NaN</td>\n",
       "      <td>4.425613e+05</td>\n",
       "      <td>4.471591e+06</td>\n",
       "      <td>N</td>\n",
       "      <td>NaN</td>\n",
       "      <td>Motocicleta hasta 125cc</td>\n",
       "    </tr>\n",
       "    <tr>\n",
       "      <th>12184</th>\n",
       "      <td>2023S013443</td>\n",
       "      <td>2023-03-31</td>\n",
       "      <td>13:30:00</td>\n",
       "      <td>CALL. MENDEZ ALVARO / CALL. RETAMA</td>\n",
       "      <td>93</td>\n",
       "      <td>13.0</td>\n",
       "      <td>PUENTE DE VALLECAS</td>\n",
       "      <td>Alcance</td>\n",
       "      <td>Despejado</td>\n",
       "      <td>NaN</td>\n",
       "      <td>Conductor</td>\n",
       "      <td>De 40 a 44 años</td>\n",
       "      <td>Hombre</td>\n",
       "      <td>NaN</td>\n",
       "      <td>NaN</td>\n",
       "      <td>4.425613e+05</td>\n",
       "      <td>4.471591e+06</td>\n",
       "      <td>N</td>\n",
       "      <td>NaN</td>\n",
       "      <td>Turismo</td>\n",
       "    </tr>\n",
       "    <tr>\n",
       "      <th>12185</th>\n",
       "      <td>2023S013443</td>\n",
       "      <td>2023-03-31</td>\n",
       "      <td>13:30:00</td>\n",
       "      <td>CALL. MENDEZ ALVARO / CALL. RETAMA</td>\n",
       "      <td>93</td>\n",
       "      <td>13.0</td>\n",
       "      <td>PUENTE DE VALLECAS</td>\n",
       "      <td>Alcance</td>\n",
       "      <td>Despejado</td>\n",
       "      <td>NaN</td>\n",
       "      <td>Pasajero</td>\n",
       "      <td>De 40 a 44 años</td>\n",
       "      <td>Mujer</td>\n",
       "      <td>NaN</td>\n",
       "      <td>NaN</td>\n",
       "      <td>4.425613e+05</td>\n",
       "      <td>4.471591e+06</td>\n",
       "      <td>N</td>\n",
       "      <td>NaN</td>\n",
       "      <td>Turismo</td>\n",
       "    </tr>\n",
       "    <tr>\n",
       "      <th>12186</th>\n",
       "      <td>2023S014588</td>\n",
       "      <td>2023-03-17</td>\n",
       "      <td>11:50:00</td>\n",
       "      <td>PASEO. CASTELLANA / CUZCO</td>\n",
       "      <td>162</td>\n",
       "      <td>5.0</td>\n",
       "      <td>CHAMARTÍN</td>\n",
       "      <td>Alcance</td>\n",
       "      <td>Despejado</td>\n",
       "      <td>NaN</td>\n",
       "      <td>Conductor</td>\n",
       "      <td>Desconocido</td>\n",
       "      <td>Desconocido</td>\n",
       "      <td>NaN</td>\n",
       "      <td>NaN</td>\n",
       "      <td>4.414998e+05</td>\n",
       "      <td>4.478870e+06</td>\n",
       "      <td>N</td>\n",
       "      <td>NaN</td>\n",
       "      <td>NaN</td>\n",
       "    </tr>\n",
       "    <tr>\n",
       "      <th>12187</th>\n",
       "      <td>2023S014588</td>\n",
       "      <td>2023-03-17</td>\n",
       "      <td>11:50:00</td>\n",
       "      <td>PASEO. CASTELLANA / CUZCO</td>\n",
       "      <td>162</td>\n",
       "      <td>5.0</td>\n",
       "      <td>CHAMARTÍN</td>\n",
       "      <td>Alcance</td>\n",
       "      <td>Despejado</td>\n",
       "      <td>NaN</td>\n",
       "      <td>Conductor</td>\n",
       "      <td>De 50 a 54 años</td>\n",
       "      <td>Hombre</td>\n",
       "      <td>NaN</td>\n",
       "      <td>NaN</td>\n",
       "      <td>4.414998e+05</td>\n",
       "      <td>4.478870e+06</td>\n",
       "      <td>N</td>\n",
       "      <td>NaN</td>\n",
       "      <td>Otros vehículos con motor</td>\n",
       "    </tr>\n",
       "  </tbody>\n",
       "</table>\n",
       "<p>14840 rows × 20 columns</p>\n",
       "</div>"
      ],
      "text/plain": [
       "      num_expediente      fecha      hora  \\\n",
       "0        2020S000044 2020-01-02  07:30:00   \n",
       "1        2020S000151 2020-01-04  13:45:00   \n",
       "2        2020S000153 2020-01-04  12:10:00   \n",
       "3        2020S000153 2020-01-04  12:10:00   \n",
       "4        2020S000212 2020-01-04  13:30:00   \n",
       "...              ...        ...       ...   \n",
       "12183    2023S013443 2023-03-31  13:30:00   \n",
       "12184    2023S013443 2023-03-31  13:30:00   \n",
       "12185    2023S013443 2023-03-31  13:30:00   \n",
       "12186    2023S014588 2023-03-17  11:50:00   \n",
       "12187    2023S014588 2023-03-17  11:50:00   \n",
       "\n",
       "                                 localizacion numero  cod_distrito  \\\n",
       "0      CALL. ALBASANZ / CALL. RUFINO GONZALEZ     23          20.0   \n",
       "1                            CALL. ORENSE, 12     12           6.0   \n",
       "2       CALL. NUESTRA SEÑORA DE VALVERDE, 209    209           8.0   \n",
       "3       CALL. NUESTRA SEÑORA DE VALVERDE, 209    209           8.0   \n",
       "4           M-605, KM 1,600 SOMONTES (CAMINO)     20           8.0   \n",
       "...                                       ...    ...           ...   \n",
       "12183      CALL. MENDEZ ALVARO / CALL. RETAMA     93          13.0   \n",
       "12184      CALL. MENDEZ ALVARO / CALL. RETAMA     93          13.0   \n",
       "12185      CALL. MENDEZ ALVARO / CALL. RETAMA     93          13.0   \n",
       "12186               PASEO. CASTELLANA / CUZCO    162           5.0   \n",
       "12187               PASEO. CASTELLANA / CUZCO    162           5.0   \n",
       "\n",
       "                  distrito     tipo_accidente estado_meteorológico  \\\n",
       "0      SAN BLAS-CANILLEJAS   Colisión frontal            Despejado   \n",
       "1                   TETUÁN              Caída            Despejado   \n",
       "2      FUENCARRAL-EL PARDO  Colisión múltiple            Despejado   \n",
       "3      FUENCARRAL-EL PARDO  Colisión múltiple            Despejado   \n",
       "4      FUENCARRAL-EL PARDO              Caída            Despejado   \n",
       "...                    ...                ...                  ...   \n",
       "12183   PUENTE DE VALLECAS            Alcance            Despejado   \n",
       "12184   PUENTE DE VALLECAS            Alcance            Despejado   \n",
       "12185   PUENTE DE VALLECAS            Alcance            Despejado   \n",
       "12186            CHAMARTÍN            Alcance            Despejado   \n",
       "12187            CHAMARTÍN            Alcance            Despejado   \n",
       "\n",
       "      tipo_vehículo tipo_persona       rango_edad         sexo  cod_lesividad  \\\n",
       "0         Bicicleta    Conductor  De 40 a 44 años       Hombre            7.0   \n",
       "1         Bicicleta    Conductor  De 21 a 24 años       Hombre            7.0   \n",
       "2         Bicicleta    Conductor  De 10 a 14 años       Hombre            1.0   \n",
       "3         Bicicleta    Conductor  De 45 a 49 años       Hombre            2.0   \n",
       "4         Bicicleta    Conductor  De 35 a 39 años       Hombre            6.0   \n",
       "...             ...          ...              ...          ...            ...   \n",
       "12183           NaN    Conductor  De 25 a 29 años       Hombre            NaN   \n",
       "12184           NaN    Conductor  De 40 a 44 años       Hombre            NaN   \n",
       "12185           NaN     Pasajero  De 40 a 44 años        Mujer            NaN   \n",
       "12186           NaN    Conductor      Desconocido  Desconocido            NaN   \n",
       "12187           NaN    Conductor  De 50 a 54 años       Hombre            NaN   \n",
       "\n",
       "                                               lesividad  coordenada_x_utm  \\\n",
       "0      Asistencia sanitaria sólo en el lugar del acci...      4.468640e+08   \n",
       "1      Asistencia sanitaria sólo en el lugar del acci...      4.410475e+08   \n",
       "2            Atención en urgencias sin posterior ingreso      4.419754e+08   \n",
       "3                    Ingreso inferior o igual a 24 horas      4.419754e+08   \n",
       "4      Asistencia sanitaria inmediata en centro de sa...      4.391659e+08   \n",
       "...                                                  ...               ...   \n",
       "12183                                                NaN      4.425613e+05   \n",
       "12184                                                NaN      4.425613e+05   \n",
       "12185                                                NaN      4.425613e+05   \n",
       "12186                                                NaN      4.414998e+05   \n",
       "12187                                                NaN      4.414998e+05   \n",
       "\n",
       "       coordenada_y_utm positiva_alcohol  positiva_droga  \\\n",
       "0          4.476526e+09                N             NaN   \n",
       "1          4.477835e+09                N             NaN   \n",
       "2          4.484542e+09                N             NaN   \n",
       "3          4.484542e+09                N             NaN   \n",
       "4          4.484558e+09                N             NaN   \n",
       "...                 ...              ...             ...   \n",
       "12183      4.471591e+06                N             NaN   \n",
       "12184      4.471591e+06                N             NaN   \n",
       "12185      4.471591e+06                N             NaN   \n",
       "12186      4.478870e+06                N             NaN   \n",
       "12187      4.478870e+06                N             NaN   \n",
       "\n",
       "                   tipo_vehiculo  \n",
       "0                            NaN  \n",
       "1                            NaN  \n",
       "2                            NaN  \n",
       "3                            NaN  \n",
       "4                            NaN  \n",
       "...                          ...  \n",
       "12183    Motocicleta hasta 125cc  \n",
       "12184                    Turismo  \n",
       "12185                    Turismo  \n",
       "12186                        NaN  \n",
       "12187  Otros vehículos con motor  \n",
       "\n",
       "[14840 rows x 20 columns]"
      ]
     },
     "execution_count": 40,
     "metadata": {},
     "output_type": "execute_result"
    }
   ],
   "source": [
    "# cargamos los ficheros xlsx\n",
    "bicisXcel20 = pd.read_excel('data/AccidentesBicicletas_2020.xlsx')\n",
    "bicisXcel21 = pd.read_excel('data/AccidentesBicicletas_2021.xlsx')\n",
    "bicisXcel22 = pd.read_excel('data/AccidentesBicicletas_2022.xlsx')\n",
    "bicisXcel23 = pd.read_excel('data/AccidentesBicicletas_2023.xlsx')\n",
    "\n",
    "# Leemos los valores del fichero y los cargamos en un dataframe\n",
    "bicis20 = pd.DataFrame(bicisXcel20)\n",
    "bicis21 = pd.DataFrame(bicisXcel21)\n",
    "bicis22 = pd.DataFrame(bicisXcel22)\n",
    "bicis23 = pd.DataFrame(bicisXcel23)\n",
    "\n",
    "dfBicis = pd.concat([bicis20, bicis21, bicis22, bicis23])\n",
    "dfBicis"
   ]
  },
  {
   "cell_type": "code",
   "execution_count": 41,
   "id": "0f68c400",
   "metadata": {},
   "outputs": [
    {
     "data": {
      "text/plain": [
       "(14840, 20)"
      ]
     },
     "execution_count": 41,
     "metadata": {},
     "output_type": "execute_result"
    }
   ],
   "source": [
    "# dimensiones\n",
    "dfBicis.shape"
   ]
  },
  {
   "cell_type": "markdown",
   "id": "e0dedbc4",
   "metadata": {},
   "source": [
    "#### Son un total de 14840 observaciones agrupadas en 21 categorías: id, num_expediente,\tfecha,\thora,\tlocalizacion,\tnumero,cod_distrito,\tdistrito,\ttipo_accidente,\testado_meteorológico,\ttipo_vehículo, \trango_edad,\tsexo,\tcod_lesividad,\ttipo_lesividad,\tcoordenada_x_utm,\tcoordenada_y_utm,\tpositiva_alcohol,\tpositiva_droga,\ttipo_vehiculo,\tlesividad"
   ]
  },
  {
   "cell_type": "code",
   "execution_count": 42,
   "id": "fe74d3d0",
   "metadata": {},
   "outputs": [
    {
     "data": {
      "text/plain": [
       "num_expediente              0\n",
       "fecha                       0\n",
       "hora                        0\n",
       "localizacion                0\n",
       "numero                      1\n",
       "cod_distrito                1\n",
       "distrito                    1\n",
       "tipo_accidente              0\n",
       "estado_meteorológico     1491\n",
       "tipo_vehículo           13066\n",
       "tipo_persona                0\n",
       "rango_edad                  0\n",
       "sexo                        0\n",
       "cod_lesividad            6278\n",
       "lesividad                6278\n",
       "coordenada_x_utm            2\n",
       "coordenada_y_utm            2\n",
       "positiva_alcohol           56\n",
       "positiva_droga          14790\n",
       "tipo_vehiculo            1871\n",
       "dtype: int64"
      ]
     },
     "execution_count": 42,
     "metadata": {},
     "output_type": "execute_result"
    }
   ],
   "source": [
    "# chequeamos los valores nulos de nuestro dataSet\n",
    "dfBicis.isnull().sum()"
   ]
  },
  {
   "cell_type": "code",
   "execution_count": 43,
   "id": "83cf5e5a",
   "metadata": {},
   "outputs": [
    {
     "name": "stdout",
     "output_type": "stream",
     "text": [
      "<class 'pandas.core.frame.DataFrame'>\n",
      "Int64Index: 14840 entries, 0 to 12187\n",
      "Data columns (total 20 columns):\n",
      " #   Column                Non-Null Count  Dtype         \n",
      "---  ------                --------------  -----         \n",
      " 0   num_expediente        14840 non-null  object        \n",
      " 1   fecha                 14840 non-null  datetime64[ns]\n",
      " 2   hora                  14840 non-null  object        \n",
      " 3   localizacion          14840 non-null  object        \n",
      " 4   numero                14839 non-null  object        \n",
      " 5   cod_distrito          14839 non-null  float64       \n",
      " 6   distrito              14839 non-null  object        \n",
      " 7   tipo_accidente        14840 non-null  object        \n",
      " 8   estado_meteorológico  13349 non-null  object        \n",
      " 9   tipo_vehículo         1774 non-null   object        \n",
      " 10  tipo_persona          14840 non-null  object        \n",
      " 11  rango_edad            14840 non-null  object        \n",
      " 12  sexo                  14840 non-null  object        \n",
      " 13  cod_lesividad         8562 non-null   float64       \n",
      " 14  lesividad             8562 non-null   object        \n",
      " 15  coordenada_x_utm      14838 non-null  float64       \n",
      " 16  coordenada_y_utm      14838 non-null  float64       \n",
      " 17  positiva_alcohol      14784 non-null  object        \n",
      " 18  positiva_droga        50 non-null     float64       \n",
      " 19  tipo_vehiculo         12969 non-null  object        \n",
      "dtypes: datetime64[ns](1), float64(5), object(14)\n",
      "memory usage: 2.4+ MB\n"
     ]
    }
   ],
   "source": [
    "dfBicis.info()"
   ]
  },
  {
   "cell_type": "markdown",
   "id": "9efe46f1",
   "metadata": {},
   "source": [
    "Eliminación de columnas que no se usarán en el análisis:\n",
    "* Nº expediente de la Policia no es necesario\n",
    "* Localizacion no es necesario saber la calle exacta del accidente, ya se agruparán los resultados por DISTRITO\n",
    "* Nº de calle al ser demasiado específico para este estudio\n",
    "* Tipo Vehiculo o tipo vehículo en este estudio siempre es BICICLETA\n",
    "* TIPO PERSONA no aporta información relevante para el estudio\n",
    "* cod_distrito no es necesario para nuestro analisis, ya que tenemos el nombre de distrito\n",
    "* cod_lesividad no es necesario para nuestro analisis, ya que tenemos la descripcion de lesividad"
   ]
  },
  {
   "cell_type": "code",
   "execution_count": 44,
   "id": "5ec157ca",
   "metadata": {},
   "outputs": [],
   "source": [
    "# Realizamos un backup del dataFrame de bicis\n",
    "dfBicisBackup = dfBicis"
   ]
  },
  {
   "cell_type": "code",
   "execution_count": 45,
   "id": "73abcdb3",
   "metadata": {},
   "outputs": [],
   "source": [
    "dfBicis = dfBicis.drop(['num_expediente', 'localizacion', 'numero', 'tipo_vehículo', 'tipo_vehiculo', 'cod_distrito', 'cod_lesividad'], axis=1)"
   ]
  },
  {
   "cell_type": "code",
   "execution_count": 46,
   "id": "feb3bd24",
   "metadata": {},
   "outputs": [
    {
     "data": {
      "text/html": [
       "<div>\n",
       "<style scoped>\n",
       "    .dataframe tbody tr th:only-of-type {\n",
       "        vertical-align: middle;\n",
       "    }\n",
       "\n",
       "    .dataframe tbody tr th {\n",
       "        vertical-align: top;\n",
       "    }\n",
       "\n",
       "    .dataframe thead th {\n",
       "        text-align: right;\n",
       "    }\n",
       "</style>\n",
       "<table border=\"1\" class=\"dataframe\">\n",
       "  <thead>\n",
       "    <tr style=\"text-align: right;\">\n",
       "      <th></th>\n",
       "      <th>fecha</th>\n",
       "      <th>hora</th>\n",
       "      <th>distrito</th>\n",
       "      <th>tipo_accidente</th>\n",
       "      <th>estado_meteorológico</th>\n",
       "      <th>tipo_persona</th>\n",
       "      <th>rango_edad</th>\n",
       "      <th>sexo</th>\n",
       "      <th>lesividad</th>\n",
       "      <th>coordenada_x_utm</th>\n",
       "      <th>coordenada_y_utm</th>\n",
       "      <th>positiva_alcohol</th>\n",
       "      <th>positiva_droga</th>\n",
       "    </tr>\n",
       "  </thead>\n",
       "  <tbody>\n",
       "    <tr>\n",
       "      <th>0</th>\n",
       "      <td>2020-01-02</td>\n",
       "      <td>07:30:00</td>\n",
       "      <td>SAN BLAS-CANILLEJAS</td>\n",
       "      <td>Colisión frontal</td>\n",
       "      <td>Despejado</td>\n",
       "      <td>Conductor</td>\n",
       "      <td>De 40 a 44 años</td>\n",
       "      <td>Hombre</td>\n",
       "      <td>Asistencia sanitaria sólo en el lugar del acci...</td>\n",
       "      <td>4.468640e+08</td>\n",
       "      <td>4.476526e+09</td>\n",
       "      <td>N</td>\n",
       "      <td>NaN</td>\n",
       "    </tr>\n",
       "    <tr>\n",
       "      <th>1</th>\n",
       "      <td>2020-01-04</td>\n",
       "      <td>13:45:00</td>\n",
       "      <td>TETUÁN</td>\n",
       "      <td>Caída</td>\n",
       "      <td>Despejado</td>\n",
       "      <td>Conductor</td>\n",
       "      <td>De 21 a 24 años</td>\n",
       "      <td>Hombre</td>\n",
       "      <td>Asistencia sanitaria sólo en el lugar del acci...</td>\n",
       "      <td>4.410475e+08</td>\n",
       "      <td>4.477835e+09</td>\n",
       "      <td>N</td>\n",
       "      <td>NaN</td>\n",
       "    </tr>\n",
       "    <tr>\n",
       "      <th>2</th>\n",
       "      <td>2020-01-04</td>\n",
       "      <td>12:10:00</td>\n",
       "      <td>FUENCARRAL-EL PARDO</td>\n",
       "      <td>Colisión múltiple</td>\n",
       "      <td>Despejado</td>\n",
       "      <td>Conductor</td>\n",
       "      <td>De 10 a 14 años</td>\n",
       "      <td>Hombre</td>\n",
       "      <td>Atención en urgencias sin posterior ingreso</td>\n",
       "      <td>4.419754e+08</td>\n",
       "      <td>4.484542e+09</td>\n",
       "      <td>N</td>\n",
       "      <td>NaN</td>\n",
       "    </tr>\n",
       "    <tr>\n",
       "      <th>3</th>\n",
       "      <td>2020-01-04</td>\n",
       "      <td>12:10:00</td>\n",
       "      <td>FUENCARRAL-EL PARDO</td>\n",
       "      <td>Colisión múltiple</td>\n",
       "      <td>Despejado</td>\n",
       "      <td>Conductor</td>\n",
       "      <td>De 45 a 49 años</td>\n",
       "      <td>Hombre</td>\n",
       "      <td>Ingreso inferior o igual a 24 horas</td>\n",
       "      <td>4.419754e+08</td>\n",
       "      <td>4.484542e+09</td>\n",
       "      <td>N</td>\n",
       "      <td>NaN</td>\n",
       "    </tr>\n",
       "    <tr>\n",
       "      <th>4</th>\n",
       "      <td>2020-01-04</td>\n",
       "      <td>13:30:00</td>\n",
       "      <td>FUENCARRAL-EL PARDO</td>\n",
       "      <td>Caída</td>\n",
       "      <td>Despejado</td>\n",
       "      <td>Conductor</td>\n",
       "      <td>De 35 a 39 años</td>\n",
       "      <td>Hombre</td>\n",
       "      <td>Asistencia sanitaria inmediata en centro de sa...</td>\n",
       "      <td>4.391659e+08</td>\n",
       "      <td>4.484558e+09</td>\n",
       "      <td>N</td>\n",
       "      <td>NaN</td>\n",
       "    </tr>\n",
       "    <tr>\n",
       "      <th>...</th>\n",
       "      <td>...</td>\n",
       "      <td>...</td>\n",
       "      <td>...</td>\n",
       "      <td>...</td>\n",
       "      <td>...</td>\n",
       "      <td>...</td>\n",
       "      <td>...</td>\n",
       "      <td>...</td>\n",
       "      <td>...</td>\n",
       "      <td>...</td>\n",
       "      <td>...</td>\n",
       "      <td>...</td>\n",
       "      <td>...</td>\n",
       "    </tr>\n",
       "    <tr>\n",
       "      <th>12183</th>\n",
       "      <td>2023-03-31</td>\n",
       "      <td>13:30:00</td>\n",
       "      <td>PUENTE DE VALLECAS</td>\n",
       "      <td>Alcance</td>\n",
       "      <td>Despejado</td>\n",
       "      <td>Conductor</td>\n",
       "      <td>De 25 a 29 años</td>\n",
       "      <td>Hombre</td>\n",
       "      <td>NaN</td>\n",
       "      <td>4.425613e+05</td>\n",
       "      <td>4.471591e+06</td>\n",
       "      <td>N</td>\n",
       "      <td>NaN</td>\n",
       "    </tr>\n",
       "    <tr>\n",
       "      <th>12184</th>\n",
       "      <td>2023-03-31</td>\n",
       "      <td>13:30:00</td>\n",
       "      <td>PUENTE DE VALLECAS</td>\n",
       "      <td>Alcance</td>\n",
       "      <td>Despejado</td>\n",
       "      <td>Conductor</td>\n",
       "      <td>De 40 a 44 años</td>\n",
       "      <td>Hombre</td>\n",
       "      <td>NaN</td>\n",
       "      <td>4.425613e+05</td>\n",
       "      <td>4.471591e+06</td>\n",
       "      <td>N</td>\n",
       "      <td>NaN</td>\n",
       "    </tr>\n",
       "    <tr>\n",
       "      <th>12185</th>\n",
       "      <td>2023-03-31</td>\n",
       "      <td>13:30:00</td>\n",
       "      <td>PUENTE DE VALLECAS</td>\n",
       "      <td>Alcance</td>\n",
       "      <td>Despejado</td>\n",
       "      <td>Pasajero</td>\n",
       "      <td>De 40 a 44 años</td>\n",
       "      <td>Mujer</td>\n",
       "      <td>NaN</td>\n",
       "      <td>4.425613e+05</td>\n",
       "      <td>4.471591e+06</td>\n",
       "      <td>N</td>\n",
       "      <td>NaN</td>\n",
       "    </tr>\n",
       "    <tr>\n",
       "      <th>12186</th>\n",
       "      <td>2023-03-17</td>\n",
       "      <td>11:50:00</td>\n",
       "      <td>CHAMARTÍN</td>\n",
       "      <td>Alcance</td>\n",
       "      <td>Despejado</td>\n",
       "      <td>Conductor</td>\n",
       "      <td>Desconocido</td>\n",
       "      <td>Desconocido</td>\n",
       "      <td>NaN</td>\n",
       "      <td>4.414998e+05</td>\n",
       "      <td>4.478870e+06</td>\n",
       "      <td>N</td>\n",
       "      <td>NaN</td>\n",
       "    </tr>\n",
       "    <tr>\n",
       "      <th>12187</th>\n",
       "      <td>2023-03-17</td>\n",
       "      <td>11:50:00</td>\n",
       "      <td>CHAMARTÍN</td>\n",
       "      <td>Alcance</td>\n",
       "      <td>Despejado</td>\n",
       "      <td>Conductor</td>\n",
       "      <td>De 50 a 54 años</td>\n",
       "      <td>Hombre</td>\n",
       "      <td>NaN</td>\n",
       "      <td>4.414998e+05</td>\n",
       "      <td>4.478870e+06</td>\n",
       "      <td>N</td>\n",
       "      <td>NaN</td>\n",
       "    </tr>\n",
       "  </tbody>\n",
       "</table>\n",
       "<p>14840 rows × 13 columns</p>\n",
       "</div>"
      ],
      "text/plain": [
       "           fecha      hora             distrito     tipo_accidente  \\\n",
       "0     2020-01-02  07:30:00  SAN BLAS-CANILLEJAS   Colisión frontal   \n",
       "1     2020-01-04  13:45:00               TETUÁN              Caída   \n",
       "2     2020-01-04  12:10:00  FUENCARRAL-EL PARDO  Colisión múltiple   \n",
       "3     2020-01-04  12:10:00  FUENCARRAL-EL PARDO  Colisión múltiple   \n",
       "4     2020-01-04  13:30:00  FUENCARRAL-EL PARDO              Caída   \n",
       "...          ...       ...                  ...                ...   \n",
       "12183 2023-03-31  13:30:00   PUENTE DE VALLECAS            Alcance   \n",
       "12184 2023-03-31  13:30:00   PUENTE DE VALLECAS            Alcance   \n",
       "12185 2023-03-31  13:30:00   PUENTE DE VALLECAS            Alcance   \n",
       "12186 2023-03-17  11:50:00            CHAMARTÍN            Alcance   \n",
       "12187 2023-03-17  11:50:00            CHAMARTÍN            Alcance   \n",
       "\n",
       "      estado_meteorológico tipo_persona       rango_edad         sexo  \\\n",
       "0                Despejado    Conductor  De 40 a 44 años       Hombre   \n",
       "1                Despejado    Conductor  De 21 a 24 años       Hombre   \n",
       "2                Despejado    Conductor  De 10 a 14 años       Hombre   \n",
       "3                Despejado    Conductor  De 45 a 49 años       Hombre   \n",
       "4                Despejado    Conductor  De 35 a 39 años       Hombre   \n",
       "...                    ...          ...              ...          ...   \n",
       "12183            Despejado    Conductor  De 25 a 29 años       Hombre   \n",
       "12184            Despejado    Conductor  De 40 a 44 años       Hombre   \n",
       "12185            Despejado     Pasajero  De 40 a 44 años        Mujer   \n",
       "12186            Despejado    Conductor      Desconocido  Desconocido   \n",
       "12187            Despejado    Conductor  De 50 a 54 años       Hombre   \n",
       "\n",
       "                                               lesividad  coordenada_x_utm  \\\n",
       "0      Asistencia sanitaria sólo en el lugar del acci...      4.468640e+08   \n",
       "1      Asistencia sanitaria sólo en el lugar del acci...      4.410475e+08   \n",
       "2            Atención en urgencias sin posterior ingreso      4.419754e+08   \n",
       "3                    Ingreso inferior o igual a 24 horas      4.419754e+08   \n",
       "4      Asistencia sanitaria inmediata en centro de sa...      4.391659e+08   \n",
       "...                                                  ...               ...   \n",
       "12183                                                NaN      4.425613e+05   \n",
       "12184                                                NaN      4.425613e+05   \n",
       "12185                                                NaN      4.425613e+05   \n",
       "12186                                                NaN      4.414998e+05   \n",
       "12187                                                NaN      4.414998e+05   \n",
       "\n",
       "       coordenada_y_utm positiva_alcohol  positiva_droga  \n",
       "0          4.476526e+09                N             NaN  \n",
       "1          4.477835e+09                N             NaN  \n",
       "2          4.484542e+09                N             NaN  \n",
       "3          4.484542e+09                N             NaN  \n",
       "4          4.484558e+09                N             NaN  \n",
       "...                 ...              ...             ...  \n",
       "12183      4.471591e+06                N             NaN  \n",
       "12184      4.471591e+06                N             NaN  \n",
       "12185      4.471591e+06                N             NaN  \n",
       "12186      4.478870e+06                N             NaN  \n",
       "12187      4.478870e+06                N             NaN  \n",
       "\n",
       "[14840 rows x 13 columns]"
      ]
     },
     "execution_count": 46,
     "metadata": {},
     "output_type": "execute_result"
    }
   ],
   "source": [
    "dfBicis"
   ]
  },
  {
   "cell_type": "code",
   "execution_count": 47,
   "id": "2b92e5a9",
   "metadata": {},
   "outputs": [
    {
     "data": {
      "text/plain": [
       "fecha                       0\n",
       "hora                        0\n",
       "distrito                    1\n",
       "tipo_accidente              0\n",
       "estado_meteorológico     1491\n",
       "tipo_persona                0\n",
       "rango_edad                  0\n",
       "sexo                        0\n",
       "lesividad                6278\n",
       "coordenada_x_utm            2\n",
       "coordenada_y_utm            2\n",
       "positiva_alcohol           56\n",
       "positiva_droga          14790\n",
       "dtype: int64"
      ]
     },
     "execution_count": 47,
     "metadata": {},
     "output_type": "execute_result"
    }
   ],
   "source": [
    "dfBicis.isnull().sum()"
   ]
  },
  {
   "cell_type": "markdown",
   "id": "6b5a531e",
   "metadata": {},
   "source": [
    "Vamos a tratar los valores nulos, para las variables null:\n",
    "* distrito solo tiene uno eliminamos esa fila\n",
    "* coordenada_y_utm y coordenada_x_utm solo hay dos, las eliminamos\n",
    "* positiva_alcohol solo tiene 56 las eliminamos\n",
    "* positiva_droga la mayoría son null suponemos porque es negativo, por lo que 1 es positivo y 0 negativo\n",
    "* lesividad, dado que hay un numero elevado vamos a realizar tareas de asignación de valores.\n",
    "* estado_meteorologico, hay un gran número vamos a realizar tareas de asignación de valores."
   ]
  },
  {
   "cell_type": "code",
   "execution_count": 48,
   "id": "e1333b92",
   "metadata": {},
   "outputs": [],
   "source": [
    "dfBicis = dfBicis.dropna(subset = ['distrito', 'coordenada_y_utm', 'coordenada_x_utm', 'positiva_alcohol'])"
   ]
  },
  {
   "cell_type": "code",
   "execution_count": 49,
   "id": "876b5ff1",
   "metadata": {},
   "outputs": [
    {
     "data": {
      "text/plain": [
       "fecha                       0\n",
       "hora                        0\n",
       "distrito                    0\n",
       "tipo_accidente              0\n",
       "estado_meteorológico     1482\n",
       "tipo_persona                0\n",
       "rango_edad                  0\n",
       "sexo                        0\n",
       "lesividad                6221\n",
       "coordenada_x_utm            0\n",
       "coordenada_y_utm            0\n",
       "positiva_alcohol            0\n",
       "positiva_droga          14731\n",
       "dtype: int64"
      ]
     },
     "execution_count": 49,
     "metadata": {},
     "output_type": "execute_result"
    }
   ],
   "source": [
    "dfBicis.isnull().sum()"
   ]
  },
  {
   "cell_type": "code",
   "execution_count": 50,
   "id": "d8325c8b",
   "metadata": {},
   "outputs": [
    {
     "name": "stdout",
     "output_type": "stream",
     "text": [
      "<class 'pandas.core.frame.DataFrame'>\n",
      "Int64Index: 14781 entries, 0 to 12187\n",
      "Data columns (total 13 columns):\n",
      " #   Column                Non-Null Count  Dtype         \n",
      "---  ------                --------------  -----         \n",
      " 0   fecha                 14781 non-null  datetime64[ns]\n",
      " 1   hora                  14781 non-null  object        \n",
      " 2   distrito              14781 non-null  object        \n",
      " 3   tipo_accidente        14781 non-null  object        \n",
      " 4   estado_meteorológico  13299 non-null  object        \n",
      " 5   tipo_persona          14781 non-null  object        \n",
      " 6   rango_edad            14781 non-null  object        \n",
      " 7   sexo                  14781 non-null  object        \n",
      " 8   lesividad             8560 non-null   object        \n",
      " 9   coordenada_x_utm      14781 non-null  float64       \n",
      " 10  coordenada_y_utm      14781 non-null  float64       \n",
      " 11  positiva_alcohol      14781 non-null  object        \n",
      " 12  positiva_droga        50 non-null     float64       \n",
      "dtypes: datetime64[ns](1), float64(3), object(9)\n",
      "memory usage: 1.6+ MB\n"
     ]
    }
   ],
   "source": [
    "dfBicis.info()"
   ]
  },
  {
   "cell_type": "code",
   "execution_count": 52,
   "id": "449d2bdb",
   "metadata": {},
   "outputs": [
    {
     "name": "stderr",
     "output_type": "stream",
     "text": [
      "C:\\Users\\javi4\\AppData\\Local\\Temp/ipykernel_6712/3753712652.py:1: SettingWithCopyWarning: \n",
      "A value is trying to be set on a copy of a slice from a DataFrame.\n",
      "Try using .loc[row_indexer,col_indexer] = value instead\n",
      "\n",
      "See the caveats in the documentation: https://pandas.pydata.org/pandas-docs/stable/user_guide/indexing.html#returning-a-view-versus-a-copy\n",
      "  dfBicis['positiva_droga'] = dfBicis['positiva_droga'].fillna(0)\n"
     ]
    }
   ],
   "source": [
    "dfBicis['positiva_droga'] = dfBicis['positiva_droga'].fillna(0)"
   ]
  },
  {
   "cell_type": "code",
   "execution_count": 54,
   "id": "93484113",
   "metadata": {},
   "outputs": [
    {
     "data": {
      "text/plain": [
       "fecha                      0\n",
       "hora                       0\n",
       "distrito                   0\n",
       "tipo_accidente             0\n",
       "estado_meteorológico    1482\n",
       "tipo_persona               0\n",
       "rango_edad                 0\n",
       "sexo                       0\n",
       "lesividad               6221\n",
       "coordenada_x_utm           0\n",
       "coordenada_y_utm           0\n",
       "positiva_alcohol           0\n",
       "positiva_droga             0\n",
       "dtype: int64"
      ]
     },
     "execution_count": 54,
     "metadata": {},
     "output_type": "execute_result"
    }
   ],
   "source": [
    "dfBicis.isnull().sum()"
   ]
  },
  {
   "cell_type": "code",
   "execution_count": null,
   "id": "19d98f68",
   "metadata": {},
   "outputs": [],
   "source": [
    "# Para imputar valores primero hay que transformar las variables a categorical"
   ]
  },
  {
   "cell_type": "code",
   "execution_count": 61,
   "id": "74c4c95d",
   "metadata": {},
   "outputs": [
    {
     "name": "stderr",
     "output_type": "stream",
     "text": [
      "C:\\Users\\javi4\\AppData\\Local\\Temp/ipykernel_6712/16681083.py:1: SettingWithCopyWarning: \n",
      "A value is trying to be set on a copy of a slice from a DataFrame.\n",
      "Try using .loc[row_indexer,col_indexer] = value instead\n",
      "\n",
      "See the caveats in the documentation: https://pandas.pydata.org/pandas-docs/stable/user_guide/indexing.html#returning-a-view-versus-a-copy\n",
      "  dfBicis['estado_meteorológico'] = dfBicis.estado_meteorológico.astype('category')\n"
     ]
    }
   ],
   "source": [
    "dfBicis['estado_meteorológico'] = dfBicis.estado_meteorológico.astype('category')"
   ]
  },
  {
   "cell_type": "code",
   "execution_count": 62,
   "id": "d352aaab",
   "metadata": {},
   "outputs": [
    {
     "name": "stdout",
     "output_type": "stream",
     "text": [
      "<class 'pandas.core.frame.DataFrame'>\n",
      "Int64Index: 14781 entries, 0 to 12187\n",
      "Data columns (total 13 columns):\n",
      " #   Column                Non-Null Count  Dtype         \n",
      "---  ------                --------------  -----         \n",
      " 0   fecha                 14781 non-null  datetime64[ns]\n",
      " 1   hora                  14781 non-null  object        \n",
      " 2   distrito              14781 non-null  object        \n",
      " 3   tipo_accidente        14781 non-null  object        \n",
      " 4   estado_meteorológico  13299 non-null  category      \n",
      " 5   tipo_persona          14781 non-null  object        \n",
      " 6   rango_edad            14781 non-null  object        \n",
      " 7   sexo                  14781 non-null  object        \n",
      " 8   lesividad             8560 non-null   object        \n",
      " 9   coordenada_x_utm      14781 non-null  float64       \n",
      " 10  coordenada_y_utm      14781 non-null  float64       \n",
      " 11  positiva_alcohol      14781 non-null  object        \n",
      " 12  positiva_droga        14781 non-null  float64       \n",
      "dtypes: category(1), datetime64[ns](1), float64(3), object(8)\n",
      "memory usage: 1.5+ MB\n"
     ]
    }
   ],
   "source": [
    "dfBicis.info()"
   ]
  },
  {
   "cell_type": "markdown",
   "id": "3682ba1c",
   "metadata": {},
   "source": [
    "## Imputación de valores perdidos"
   ]
  },
  {
   "cell_type": "markdown",
   "id": "37a6f0c5",
   "metadata": {},
   "source": [
    "La librería scikit-learn nos proporciona la clase KNNImputer para hacer uso de este modelo en la imputación de missing values. Esta clase usa por defecto la distancia euclidiana, pero podemos elegir la que prefiramos modificando el parámetro metric. Asimismo, también podemos elegir el número de vecinos con el argumento n_neighbors y en esta ocasión usaremos 5. Podeís ver en el siguiente código como utilizamos este método para imputar los valores perdidos en la variable normalized-losses:"
   ]
  },
  {
   "cell_type": "code",
   "execution_count": 80,
   "id": "ee5d9849",
   "metadata": {},
   "outputs": [
    {
     "ename": "NameError",
     "evalue": "name 'CategoricalImputer' is not defined",
     "output_type": "error",
     "traceback": [
      "\u001b[1;31m---------------------------------------------------------------------------\u001b[0m",
      "\u001b[1;31mNameError\u001b[0m                                 Traceback (most recent call last)",
      "\u001b[1;32m~\\AppData\\Local\\Temp/ipykernel_6712/1250894104.py\u001b[0m in \u001b[0;36m<module>\u001b[1;34m\u001b[0m\n\u001b[0;32m      1\u001b[0m \u001b[1;31m# Imputamos la variable num-of-doors con la moda al ser una variable categorica no podemos usar metodos mas precisos como knnimputer\u001b[0m\u001b[1;33m\u001b[0m\u001b[1;33m\u001b[0m\u001b[0m\n\u001b[0;32m      2\u001b[0m \u001b[1;31m# configurar la imputación\u001b[0m\u001b[1;33m\u001b[0m\u001b[1;33m\u001b[0m\u001b[0m\n\u001b[1;32m----> 3\u001b[1;33m imputer = CategoricalImputer(\n\u001b[0m\u001b[0;32m      4\u001b[0m     \u001b[0mimputation_method\u001b[0m\u001b[1;33m=\u001b[0m\u001b[1;34m'frequent'\u001b[0m\u001b[1;33m,\u001b[0m\u001b[1;33m\u001b[0m\u001b[1;33m\u001b[0m\u001b[0m\n\u001b[0;32m      5\u001b[0m     variables=['estado_meteorológico'],)\n",
      "\u001b[1;31mNameError\u001b[0m: name 'CategoricalImputer' is not defined"
     ]
    }
   ],
   "source": [
    "# configurar la imputación\n",
    "imputer = CategoricalImputer(\n",
    "    imputation_method='frequent',\n",
    "    variables=['estado_meteorológico','lesividad'],)\n",
    "# ajustar la imputación\n",
    "imputer.fit(dfBicis[['estado_meteorológico','lesividad']])\n",
    "dfBicis['estado_meteorológico','lesividad'] = imputer.transform(dfBicis[['estado_meteorológico','lesividad']])"
   ]
  },
  {
   "cell_type": "code",
   "execution_count": 67,
   "id": "4052448f",
   "metadata": {},
   "outputs": [
    {
     "ename": "ValueError",
     "evalue": "could not convert string to float: 'Despejado'",
     "output_type": "error",
     "traceback": [
      "\u001b[1;31m---------------------------------------------------------------------------\u001b[0m",
      "\u001b[1;31mValueError\u001b[0m                                Traceback (most recent call last)",
      "\u001b[1;32m~\\AppData\\Local\\Temp/ipykernel_6712/1372301223.py\u001b[0m in \u001b[0;36m<module>\u001b[1;34m\u001b[0m\n\u001b[0;32m      3\u001b[0m \u001b[1;33m\u001b[0m\u001b[0m\n\u001b[0;32m      4\u001b[0m \u001b[1;31m# Ajustamos el modelo e imputamos los missing values\u001b[0m\u001b[1;33m\u001b[0m\u001b[1;33m\u001b[0m\u001b[0m\n\u001b[1;32m----> 5\u001b[1;33m \u001b[0mimputer\u001b[0m\u001b[1;33m.\u001b[0m\u001b[0mfit\u001b[0m\u001b[1;33m(\u001b[0m\u001b[0mdfBicis\u001b[0m\u001b[1;33m[\u001b[0m\u001b[1;33m[\u001b[0m\u001b[1;34m\"estado_meteorológico\"\u001b[0m\u001b[1;33m]\u001b[0m\u001b[1;33m]\u001b[0m\u001b[1;33m)\u001b[0m\u001b[1;33m\u001b[0m\u001b[1;33m\u001b[0m\u001b[0m\n\u001b[0m\u001b[0;32m      6\u001b[0m \u001b[0mdfBicis\u001b[0m\u001b[1;33m[\u001b[0m\u001b[1;34m\"estado_meteorológico\"\u001b[0m\u001b[1;33m]\u001b[0m \u001b[1;33m=\u001b[0m \u001b[0mimputer\u001b[0m\u001b[1;33m.\u001b[0m\u001b[0mfit_transform\u001b[0m\u001b[1;33m(\u001b[0m\u001b[0mdfBicis\u001b[0m\u001b[1;33m[\u001b[0m\u001b[1;33m[\u001b[0m\u001b[1;34m\"estado_meteorológico\"\u001b[0m\u001b[1;33m]\u001b[0m\u001b[1;33m]\u001b[0m\u001b[1;33m)\u001b[0m\u001b[1;33m.\u001b[0m\u001b[0mravel\u001b[0m\u001b[1;33m(\u001b[0m\u001b[1;33m)\u001b[0m\u001b[1;33m\u001b[0m\u001b[1;33m\u001b[0m\u001b[0m\n",
      "\u001b[1;32m~\\anaconda3\\lib\\site-packages\\sklearn\\impute\\_knn.py\u001b[0m in \u001b[0;36mfit\u001b[1;34m(self, X, y)\u001b[0m\n\u001b[0;32m    181\u001b[0m                 \"Expected n_neighbors > 0. Got {}\".format(self.n_neighbors))\n\u001b[0;32m    182\u001b[0m \u001b[1;33m\u001b[0m\u001b[0m\n\u001b[1;32m--> 183\u001b[1;33m         X = self._validate_data(X, accept_sparse=False, dtype=FLOAT_DTYPES,\n\u001b[0m\u001b[0;32m    184\u001b[0m                                 \u001b[0mforce_all_finite\u001b[0m\u001b[1;33m=\u001b[0m\u001b[0mforce_all_finite\u001b[0m\u001b[1;33m,\u001b[0m\u001b[1;33m\u001b[0m\u001b[1;33m\u001b[0m\u001b[0m\n\u001b[0;32m    185\u001b[0m                                 copy=self.copy)\n",
      "\u001b[1;32m~\\anaconda3\\lib\\site-packages\\sklearn\\base.py\u001b[0m in \u001b[0;36m_validate_data\u001b[1;34m(self, X, y, reset, validate_separately, **check_params)\u001b[0m\n\u001b[0;32m    419\u001b[0m             \u001b[0mout\u001b[0m \u001b[1;33m=\u001b[0m \u001b[0mX\u001b[0m\u001b[1;33m\u001b[0m\u001b[1;33m\u001b[0m\u001b[0m\n\u001b[0;32m    420\u001b[0m         \u001b[1;32melif\u001b[0m \u001b[0misinstance\u001b[0m\u001b[1;33m(\u001b[0m\u001b[0my\u001b[0m\u001b[1;33m,\u001b[0m \u001b[0mstr\u001b[0m\u001b[1;33m)\u001b[0m \u001b[1;32mand\u001b[0m \u001b[0my\u001b[0m \u001b[1;33m==\u001b[0m \u001b[1;34m'no_validation'\u001b[0m\u001b[1;33m:\u001b[0m\u001b[1;33m\u001b[0m\u001b[1;33m\u001b[0m\u001b[0m\n\u001b[1;32m--> 421\u001b[1;33m             \u001b[0mX\u001b[0m \u001b[1;33m=\u001b[0m \u001b[0mcheck_array\u001b[0m\u001b[1;33m(\u001b[0m\u001b[0mX\u001b[0m\u001b[1;33m,\u001b[0m \u001b[1;33m**\u001b[0m\u001b[0mcheck_params\u001b[0m\u001b[1;33m)\u001b[0m\u001b[1;33m\u001b[0m\u001b[1;33m\u001b[0m\u001b[0m\n\u001b[0m\u001b[0;32m    422\u001b[0m             \u001b[0mout\u001b[0m \u001b[1;33m=\u001b[0m \u001b[0mX\u001b[0m\u001b[1;33m\u001b[0m\u001b[1;33m\u001b[0m\u001b[0m\n\u001b[0;32m    423\u001b[0m         \u001b[1;32melse\u001b[0m\u001b[1;33m:\u001b[0m\u001b[1;33m\u001b[0m\u001b[1;33m\u001b[0m\u001b[0m\n",
      "\u001b[1;32m~\\anaconda3\\lib\\site-packages\\sklearn\\utils\\validation.py\u001b[0m in \u001b[0;36minner_f\u001b[1;34m(*args, **kwargs)\u001b[0m\n\u001b[0;32m     61\u001b[0m             \u001b[0mextra_args\u001b[0m \u001b[1;33m=\u001b[0m \u001b[0mlen\u001b[0m\u001b[1;33m(\u001b[0m\u001b[0margs\u001b[0m\u001b[1;33m)\u001b[0m \u001b[1;33m-\u001b[0m \u001b[0mlen\u001b[0m\u001b[1;33m(\u001b[0m\u001b[0mall_args\u001b[0m\u001b[1;33m)\u001b[0m\u001b[1;33m\u001b[0m\u001b[1;33m\u001b[0m\u001b[0m\n\u001b[0;32m     62\u001b[0m             \u001b[1;32mif\u001b[0m \u001b[0mextra_args\u001b[0m \u001b[1;33m<=\u001b[0m \u001b[1;36m0\u001b[0m\u001b[1;33m:\u001b[0m\u001b[1;33m\u001b[0m\u001b[1;33m\u001b[0m\u001b[0m\n\u001b[1;32m---> 63\u001b[1;33m                 \u001b[1;32mreturn\u001b[0m \u001b[0mf\u001b[0m\u001b[1;33m(\u001b[0m\u001b[1;33m*\u001b[0m\u001b[0margs\u001b[0m\u001b[1;33m,\u001b[0m \u001b[1;33m**\u001b[0m\u001b[0mkwargs\u001b[0m\u001b[1;33m)\u001b[0m\u001b[1;33m\u001b[0m\u001b[1;33m\u001b[0m\u001b[0m\n\u001b[0m\u001b[0;32m     64\u001b[0m \u001b[1;33m\u001b[0m\u001b[0m\n\u001b[0;32m     65\u001b[0m             \u001b[1;31m# extra_args > 0\u001b[0m\u001b[1;33m\u001b[0m\u001b[1;33m\u001b[0m\u001b[0m\n",
      "\u001b[1;32m~\\anaconda3\\lib\\site-packages\\sklearn\\utils\\validation.py\u001b[0m in \u001b[0;36mcheck_array\u001b[1;34m(array, accept_sparse, accept_large_sparse, dtype, order, copy, force_all_finite, ensure_2d, allow_nd, ensure_min_samples, ensure_min_features, estimator)\u001b[0m\n\u001b[0;32m    671\u001b[0m                     \u001b[0marray\u001b[0m \u001b[1;33m=\u001b[0m \u001b[0marray\u001b[0m\u001b[1;33m.\u001b[0m\u001b[0mastype\u001b[0m\u001b[1;33m(\u001b[0m\u001b[0mdtype\u001b[0m\u001b[1;33m,\u001b[0m \u001b[0mcasting\u001b[0m\u001b[1;33m=\u001b[0m\u001b[1;34m\"unsafe\"\u001b[0m\u001b[1;33m,\u001b[0m \u001b[0mcopy\u001b[0m\u001b[1;33m=\u001b[0m\u001b[1;32mFalse\u001b[0m\u001b[1;33m)\u001b[0m\u001b[1;33m\u001b[0m\u001b[1;33m\u001b[0m\u001b[0m\n\u001b[0;32m    672\u001b[0m                 \u001b[1;32melse\u001b[0m\u001b[1;33m:\u001b[0m\u001b[1;33m\u001b[0m\u001b[1;33m\u001b[0m\u001b[0m\n\u001b[1;32m--> 673\u001b[1;33m                     \u001b[0marray\u001b[0m \u001b[1;33m=\u001b[0m \u001b[0mnp\u001b[0m\u001b[1;33m.\u001b[0m\u001b[0masarray\u001b[0m\u001b[1;33m(\u001b[0m\u001b[0marray\u001b[0m\u001b[1;33m,\u001b[0m \u001b[0morder\u001b[0m\u001b[1;33m=\u001b[0m\u001b[0morder\u001b[0m\u001b[1;33m,\u001b[0m \u001b[0mdtype\u001b[0m\u001b[1;33m=\u001b[0m\u001b[0mdtype\u001b[0m\u001b[1;33m)\u001b[0m\u001b[1;33m\u001b[0m\u001b[1;33m\u001b[0m\u001b[0m\n\u001b[0m\u001b[0;32m    674\u001b[0m             \u001b[1;32mexcept\u001b[0m \u001b[0mComplexWarning\u001b[0m \u001b[1;32mas\u001b[0m \u001b[0mcomplex_warning\u001b[0m\u001b[1;33m:\u001b[0m\u001b[1;33m\u001b[0m\u001b[1;33m\u001b[0m\u001b[0m\n\u001b[0;32m    675\u001b[0m                 raise ValueError(\"Complex data not supported\\n\"\n",
      "\u001b[1;32m~\\anaconda3\\lib\\site-packages\\numpy\\core\\_asarray.py\u001b[0m in \u001b[0;36masarray\u001b[1;34m(a, dtype, order, like)\u001b[0m\n\u001b[0;32m    100\u001b[0m         \u001b[1;32mreturn\u001b[0m \u001b[0m_asarray_with_like\u001b[0m\u001b[1;33m(\u001b[0m\u001b[0ma\u001b[0m\u001b[1;33m,\u001b[0m \u001b[0mdtype\u001b[0m\u001b[1;33m=\u001b[0m\u001b[0mdtype\u001b[0m\u001b[1;33m,\u001b[0m \u001b[0morder\u001b[0m\u001b[1;33m=\u001b[0m\u001b[0morder\u001b[0m\u001b[1;33m,\u001b[0m \u001b[0mlike\u001b[0m\u001b[1;33m=\u001b[0m\u001b[0mlike\u001b[0m\u001b[1;33m)\u001b[0m\u001b[1;33m\u001b[0m\u001b[1;33m\u001b[0m\u001b[0m\n\u001b[0;32m    101\u001b[0m \u001b[1;33m\u001b[0m\u001b[0m\n\u001b[1;32m--> 102\u001b[1;33m     \u001b[1;32mreturn\u001b[0m \u001b[0marray\u001b[0m\u001b[1;33m(\u001b[0m\u001b[0ma\u001b[0m\u001b[1;33m,\u001b[0m \u001b[0mdtype\u001b[0m\u001b[1;33m,\u001b[0m \u001b[0mcopy\u001b[0m\u001b[1;33m=\u001b[0m\u001b[1;32mFalse\u001b[0m\u001b[1;33m,\u001b[0m \u001b[0morder\u001b[0m\u001b[1;33m=\u001b[0m\u001b[0morder\u001b[0m\u001b[1;33m)\u001b[0m\u001b[1;33m\u001b[0m\u001b[1;33m\u001b[0m\u001b[0m\n\u001b[0m\u001b[0;32m    103\u001b[0m \u001b[1;33m\u001b[0m\u001b[0m\n\u001b[0;32m    104\u001b[0m \u001b[1;33m\u001b[0m\u001b[0m\n",
      "\u001b[1;32m~\\anaconda3\\lib\\site-packages\\pandas\\core\\generic.py\u001b[0m in \u001b[0;36m__array__\u001b[1;34m(self, dtype)\u001b[0m\n\u001b[0;32m   1991\u001b[0m \u001b[1;33m\u001b[0m\u001b[0m\n\u001b[0;32m   1992\u001b[0m     \u001b[1;32mdef\u001b[0m \u001b[0m__array__\u001b[0m\u001b[1;33m(\u001b[0m\u001b[0mself\u001b[0m\u001b[1;33m,\u001b[0m \u001b[0mdtype\u001b[0m\u001b[1;33m:\u001b[0m \u001b[0mNpDtype\u001b[0m \u001b[1;33m|\u001b[0m \u001b[1;32mNone\u001b[0m \u001b[1;33m=\u001b[0m \u001b[1;32mNone\u001b[0m\u001b[1;33m)\u001b[0m \u001b[1;33m->\u001b[0m \u001b[0mnp\u001b[0m\u001b[1;33m.\u001b[0m\u001b[0mndarray\u001b[0m\u001b[1;33m:\u001b[0m\u001b[1;33m\u001b[0m\u001b[1;33m\u001b[0m\u001b[0m\n\u001b[1;32m-> 1993\u001b[1;33m         \u001b[1;32mreturn\u001b[0m \u001b[0mnp\u001b[0m\u001b[1;33m.\u001b[0m\u001b[0masarray\u001b[0m\u001b[1;33m(\u001b[0m\u001b[0mself\u001b[0m\u001b[1;33m.\u001b[0m\u001b[0m_values\u001b[0m\u001b[1;33m,\u001b[0m \u001b[0mdtype\u001b[0m\u001b[1;33m=\u001b[0m\u001b[0mdtype\u001b[0m\u001b[1;33m)\u001b[0m\u001b[1;33m\u001b[0m\u001b[1;33m\u001b[0m\u001b[0m\n\u001b[0m\u001b[0;32m   1994\u001b[0m \u001b[1;33m\u001b[0m\u001b[0m\n\u001b[0;32m   1995\u001b[0m     def __array_wrap__(\n",
      "\u001b[1;32m~\\anaconda3\\lib\\site-packages\\numpy\\core\\_asarray.py\u001b[0m in \u001b[0;36masarray\u001b[1;34m(a, dtype, order, like)\u001b[0m\n\u001b[0;32m    100\u001b[0m         \u001b[1;32mreturn\u001b[0m \u001b[0m_asarray_with_like\u001b[0m\u001b[1;33m(\u001b[0m\u001b[0ma\u001b[0m\u001b[1;33m,\u001b[0m \u001b[0mdtype\u001b[0m\u001b[1;33m=\u001b[0m\u001b[0mdtype\u001b[0m\u001b[1;33m,\u001b[0m \u001b[0morder\u001b[0m\u001b[1;33m=\u001b[0m\u001b[0morder\u001b[0m\u001b[1;33m,\u001b[0m \u001b[0mlike\u001b[0m\u001b[1;33m=\u001b[0m\u001b[0mlike\u001b[0m\u001b[1;33m)\u001b[0m\u001b[1;33m\u001b[0m\u001b[1;33m\u001b[0m\u001b[0m\n\u001b[0;32m    101\u001b[0m \u001b[1;33m\u001b[0m\u001b[0m\n\u001b[1;32m--> 102\u001b[1;33m     \u001b[1;32mreturn\u001b[0m \u001b[0marray\u001b[0m\u001b[1;33m(\u001b[0m\u001b[0ma\u001b[0m\u001b[1;33m,\u001b[0m \u001b[0mdtype\u001b[0m\u001b[1;33m,\u001b[0m \u001b[0mcopy\u001b[0m\u001b[1;33m=\u001b[0m\u001b[1;32mFalse\u001b[0m\u001b[1;33m,\u001b[0m \u001b[0morder\u001b[0m\u001b[1;33m=\u001b[0m\u001b[0morder\u001b[0m\u001b[1;33m)\u001b[0m\u001b[1;33m\u001b[0m\u001b[1;33m\u001b[0m\u001b[0m\n\u001b[0m\u001b[0;32m    103\u001b[0m \u001b[1;33m\u001b[0m\u001b[0m\n\u001b[0;32m    104\u001b[0m \u001b[1;33m\u001b[0m\u001b[0m\n",
      "\u001b[1;31mValueError\u001b[0m: could not convert string to float: 'Despejado'"
     ]
    }
   ],
   "source": [
    "# Construimos el modelo\n",
    "imputer = KNNImputer(n_neighbors=5, weights=\"uniform\")\n",
    "\n",
    "# Ajustamos el modelo e imputamos los missing values\n",
    "imputer.fit(dfBicis[['estado_meteorológico','lesividad']])\n",
    "dfBicis['estado_meteorológico','lesividad'] = imputer.fit_transform(dfBicis[['estado_meteorológico','lesividad']]).ravel()"
   ]
  },
  {
   "cell_type": "code",
   "execution_count": 74,
   "id": "ab65c7cd",
   "metadata": {},
   "outputs": [
    {
     "data": {
      "text/plain": [
       "fecha                       0\n",
       "hora                        0\n",
       "distrito                    0\n",
       "tipo_accidente              0\n",
       "estado_meteorológico    14781\n",
       "tipo_persona                0\n",
       "rango_edad                  0\n",
       "sexo                        0\n",
       "lesividad                6221\n",
       "coordenada_x_utm            0\n",
       "coordenada_y_utm            0\n",
       "positiva_alcohol            0\n",
       "positiva_droga              0\n",
       "dtype: int64"
      ]
     },
     "execution_count": 74,
     "metadata": {},
     "output_type": "execute_result"
    }
   ],
   "source": [
    "dfBicis.isnull().sum()"
   ]
  },
  {
   "cell_type": "markdown",
   "id": "3bb9bdff",
   "metadata": {},
   "source": [
    "El problema es que la mayoría de los modelos de machine learning en Python, entre ellos las redes neuronales, solo pueden leer valores numéricos puesto que que hacen uso de diversas operaciones matemáticas. Por esto mismo, en estos casos es importante convertir este tipo de variables en numéricas para que los modelos puedan utilizarlas.\n",
    "Comenzamos con esta popular técnica de codificación que consiste simplemente en remplazar cada valor de la variable con un número entero distinto. Es por ello que la codificación ordinal resulta útil cuando tenemos datos ordinales, es decir, aquellos en los que se puede establecer un orden entre sus categóricas. En consecuencia, esta técnica nos ayudará a representar esta relación de orden de las distintas categorías."
   ]
  },
  {
   "cell_type": "code",
   "execution_count": 68,
   "id": "3a5cea2d",
   "metadata": {},
   "outputs": [
    {
     "data": {
      "text/plain": [
       "Despejado         11923\n",
       "Nublado             731\n",
       "Lluvia débil        514\n",
       "Se desconoce         72\n",
       "LLuvia intensa       59\n",
       "Name: estado_meteorológico, dtype: int64"
      ]
     },
     "execution_count": 68,
     "metadata": {},
     "output_type": "execute_result"
    }
   ],
   "source": [
    "# Para la variable estado_meteorológico tenemos los siguientes valores: Despejado, Nublado, Lluvia débil, Se desconoce, Lluvia intensa.\n",
    "dfBicis.estado_meteorológico.value_counts()"
   ]
  },
  {
   "cell_type": "code",
   "execution_count": 70,
   "id": "c9066d42",
   "metadata": {},
   "outputs": [
    {
     "ename": "ValueError",
     "evalue": "Input contains NaN",
     "output_type": "error",
     "traceback": [
      "\u001b[1;31m---------------------------------------------------------------------------\u001b[0m",
      "\u001b[1;31mValueError\u001b[0m                                Traceback (most recent call last)",
      "\u001b[1;32m~\\AppData\\Local\\Temp/ipykernel_6712/2786738064.py\u001b[0m in \u001b[0;36m<module>\u001b[1;34m\u001b[0m\n\u001b[0;32m      4\u001b[0m \u001b[1;33m\u001b[0m\u001b[0m\n\u001b[0;32m      5\u001b[0m \u001b[1;31m# Ajustamos el codificador con la variable education y la transformamos\u001b[0m\u001b[1;33m\u001b[0m\u001b[1;33m\u001b[0m\u001b[0m\n\u001b[1;32m----> 6\u001b[1;33m \u001b[0mencoder\u001b[0m\u001b[1;33m.\u001b[0m\u001b[0mfit\u001b[0m\u001b[1;33m(\u001b[0m\u001b[0mdfBicis\u001b[0m\u001b[1;33m[\u001b[0m\u001b[1;33m[\u001b[0m\u001b[1;34m\"estado_meteorológico\"\u001b[0m\u001b[1;33m]\u001b[0m\u001b[1;33m]\u001b[0m\u001b[1;33m)\u001b[0m\u001b[1;33m\u001b[0m\u001b[1;33m\u001b[0m\u001b[0m\n\u001b[0m\u001b[0;32m      7\u001b[0m \u001b[0mdfBicis\u001b[0m\u001b[1;33m[\u001b[0m\u001b[1;34m\"estado_meteorológico-encoded\"\u001b[0m\u001b[1;33m]\u001b[0m \u001b[1;33m=\u001b[0m \u001b[0mencoder\u001b[0m\u001b[1;33m.\u001b[0m\u001b[0mtransform\u001b[0m\u001b[1;33m(\u001b[0m\u001b[0mdfBicis\u001b[0m\u001b[1;33m[\u001b[0m\u001b[1;33m[\u001b[0m\u001b[1;34m\"estado_meteorológico\"\u001b[0m\u001b[1;33m]\u001b[0m\u001b[1;33m]\u001b[0m\u001b[1;33m)\u001b[0m\u001b[1;33m\u001b[0m\u001b[1;33m\u001b[0m\u001b[0m\n",
      "\u001b[1;32m~\\anaconda3\\lib\\site-packages\\sklearn\\preprocessing\\_encoders.py\u001b[0m in \u001b[0;36mfit\u001b[1;34m(self, X, y)\u001b[0m\n\u001b[0;32m    777\u001b[0m                             f\"got {self.unknown_value}.\")\n\u001b[0;32m    778\u001b[0m \u001b[1;33m\u001b[0m\u001b[0m\n\u001b[1;32m--> 779\u001b[1;33m         \u001b[0mself\u001b[0m\u001b[1;33m.\u001b[0m\u001b[0m_fit\u001b[0m\u001b[1;33m(\u001b[0m\u001b[0mX\u001b[0m\u001b[1;33m)\u001b[0m\u001b[1;33m\u001b[0m\u001b[1;33m\u001b[0m\u001b[0m\n\u001b[0m\u001b[0;32m    780\u001b[0m \u001b[1;33m\u001b[0m\u001b[0m\n\u001b[0;32m    781\u001b[0m         \u001b[1;32mif\u001b[0m \u001b[0mself\u001b[0m\u001b[1;33m.\u001b[0m\u001b[0mhandle_unknown\u001b[0m \u001b[1;33m==\u001b[0m \u001b[1;34m'use_encoded_value'\u001b[0m\u001b[1;33m:\u001b[0m\u001b[1;33m\u001b[0m\u001b[1;33m\u001b[0m\u001b[0m\n",
      "\u001b[1;32m~\\anaconda3\\lib\\site-packages\\sklearn\\preprocessing\\_encoders.py\u001b[0m in \u001b[0;36m_fit\u001b[1;34m(self, X, handle_unknown, force_all_finite)\u001b[0m\n\u001b[0;32m     75\u001b[0m \u001b[1;33m\u001b[0m\u001b[0m\n\u001b[0;32m     76\u001b[0m     \u001b[1;32mdef\u001b[0m \u001b[0m_fit\u001b[0m\u001b[1;33m(\u001b[0m\u001b[0mself\u001b[0m\u001b[1;33m,\u001b[0m \u001b[0mX\u001b[0m\u001b[1;33m,\u001b[0m \u001b[0mhandle_unknown\u001b[0m\u001b[1;33m=\u001b[0m\u001b[1;34m'error'\u001b[0m\u001b[1;33m,\u001b[0m \u001b[0mforce_all_finite\u001b[0m\u001b[1;33m=\u001b[0m\u001b[1;32mTrue\u001b[0m\u001b[1;33m)\u001b[0m\u001b[1;33m:\u001b[0m\u001b[1;33m\u001b[0m\u001b[1;33m\u001b[0m\u001b[0m\n\u001b[1;32m---> 77\u001b[1;33m         X_list, n_samples, n_features = self._check_X(\n\u001b[0m\u001b[0;32m     78\u001b[0m             X, force_all_finite=force_all_finite)\n\u001b[0;32m     79\u001b[0m \u001b[1;33m\u001b[0m\u001b[0m\n",
      "\u001b[1;32m~\\anaconda3\\lib\\site-packages\\sklearn\\preprocessing\\_encoders.py\u001b[0m in \u001b[0;36m_check_X\u001b[1;34m(self, X, force_all_finite)\u001b[0m\n\u001b[0;32m     61\u001b[0m         \u001b[1;32mfor\u001b[0m \u001b[0mi\u001b[0m \u001b[1;32min\u001b[0m \u001b[0mrange\u001b[0m\u001b[1;33m(\u001b[0m\u001b[0mn_features\u001b[0m\u001b[1;33m)\u001b[0m\u001b[1;33m:\u001b[0m\u001b[1;33m\u001b[0m\u001b[1;33m\u001b[0m\u001b[0m\n\u001b[0;32m     62\u001b[0m             \u001b[0mXi\u001b[0m \u001b[1;33m=\u001b[0m \u001b[0mself\u001b[0m\u001b[1;33m.\u001b[0m\u001b[0m_get_feature\u001b[0m\u001b[1;33m(\u001b[0m\u001b[0mX\u001b[0m\u001b[1;33m,\u001b[0m \u001b[0mfeature_idx\u001b[0m\u001b[1;33m=\u001b[0m\u001b[0mi\u001b[0m\u001b[1;33m)\u001b[0m\u001b[1;33m\u001b[0m\u001b[1;33m\u001b[0m\u001b[0m\n\u001b[1;32m---> 63\u001b[1;33m             Xi = check_array(Xi, ensure_2d=False, dtype=None,\n\u001b[0m\u001b[0;32m     64\u001b[0m                              force_all_finite=needs_validation)\n\u001b[0;32m     65\u001b[0m             \u001b[0mX_columns\u001b[0m\u001b[1;33m.\u001b[0m\u001b[0mappend\u001b[0m\u001b[1;33m(\u001b[0m\u001b[0mXi\u001b[0m\u001b[1;33m)\u001b[0m\u001b[1;33m\u001b[0m\u001b[1;33m\u001b[0m\u001b[0m\n",
      "\u001b[1;32m~\\anaconda3\\lib\\site-packages\\sklearn\\utils\\validation.py\u001b[0m in \u001b[0;36minner_f\u001b[1;34m(*args, **kwargs)\u001b[0m\n\u001b[0;32m     61\u001b[0m             \u001b[0mextra_args\u001b[0m \u001b[1;33m=\u001b[0m \u001b[0mlen\u001b[0m\u001b[1;33m(\u001b[0m\u001b[0margs\u001b[0m\u001b[1;33m)\u001b[0m \u001b[1;33m-\u001b[0m \u001b[0mlen\u001b[0m\u001b[1;33m(\u001b[0m\u001b[0mall_args\u001b[0m\u001b[1;33m)\u001b[0m\u001b[1;33m\u001b[0m\u001b[1;33m\u001b[0m\u001b[0m\n\u001b[0;32m     62\u001b[0m             \u001b[1;32mif\u001b[0m \u001b[0mextra_args\u001b[0m \u001b[1;33m<=\u001b[0m \u001b[1;36m0\u001b[0m\u001b[1;33m:\u001b[0m\u001b[1;33m\u001b[0m\u001b[1;33m\u001b[0m\u001b[0m\n\u001b[1;32m---> 63\u001b[1;33m                 \u001b[1;32mreturn\u001b[0m \u001b[0mf\u001b[0m\u001b[1;33m(\u001b[0m\u001b[1;33m*\u001b[0m\u001b[0margs\u001b[0m\u001b[1;33m,\u001b[0m \u001b[1;33m**\u001b[0m\u001b[0mkwargs\u001b[0m\u001b[1;33m)\u001b[0m\u001b[1;33m\u001b[0m\u001b[1;33m\u001b[0m\u001b[0m\n\u001b[0m\u001b[0;32m     64\u001b[0m \u001b[1;33m\u001b[0m\u001b[0m\n\u001b[0;32m     65\u001b[0m             \u001b[1;31m# extra_args > 0\u001b[0m\u001b[1;33m\u001b[0m\u001b[1;33m\u001b[0m\u001b[0m\n",
      "\u001b[1;32m~\\anaconda3\\lib\\site-packages\\sklearn\\utils\\validation.py\u001b[0m in \u001b[0;36mcheck_array\u001b[1;34m(array, accept_sparse, accept_large_sparse, dtype, order, copy, force_all_finite, ensure_2d, allow_nd, ensure_min_samples, ensure_min_features, estimator)\u001b[0m\n\u001b[0;32m    718\u001b[0m \u001b[1;33m\u001b[0m\u001b[0m\n\u001b[0;32m    719\u001b[0m         \u001b[1;32mif\u001b[0m \u001b[0mforce_all_finite\u001b[0m\u001b[1;33m:\u001b[0m\u001b[1;33m\u001b[0m\u001b[1;33m\u001b[0m\u001b[0m\n\u001b[1;32m--> 720\u001b[1;33m             _assert_all_finite(array,\n\u001b[0m\u001b[0;32m    721\u001b[0m                                allow_nan=force_all_finite == 'allow-nan')\n\u001b[0;32m    722\u001b[0m \u001b[1;33m\u001b[0m\u001b[0m\n",
      "\u001b[1;32m~\\anaconda3\\lib\\site-packages\\sklearn\\utils\\validation.py\u001b[0m in \u001b[0;36m_assert_all_finite\u001b[1;34m(X, allow_nan, msg_dtype)\u001b[0m\n\u001b[0;32m    109\u001b[0m     \u001b[1;32melif\u001b[0m \u001b[0mX\u001b[0m\u001b[1;33m.\u001b[0m\u001b[0mdtype\u001b[0m \u001b[1;33m==\u001b[0m \u001b[0mnp\u001b[0m\u001b[1;33m.\u001b[0m\u001b[0mdtype\u001b[0m\u001b[1;33m(\u001b[0m\u001b[1;34m'object'\u001b[0m\u001b[1;33m)\u001b[0m \u001b[1;32mand\u001b[0m \u001b[1;32mnot\u001b[0m \u001b[0mallow_nan\u001b[0m\u001b[1;33m:\u001b[0m\u001b[1;33m\u001b[0m\u001b[1;33m\u001b[0m\u001b[0m\n\u001b[0;32m    110\u001b[0m         \u001b[1;32mif\u001b[0m \u001b[0m_object_dtype_isnan\u001b[0m\u001b[1;33m(\u001b[0m\u001b[0mX\u001b[0m\u001b[1;33m)\u001b[0m\u001b[1;33m.\u001b[0m\u001b[0many\u001b[0m\u001b[1;33m(\u001b[0m\u001b[1;33m)\u001b[0m\u001b[1;33m:\u001b[0m\u001b[1;33m\u001b[0m\u001b[1;33m\u001b[0m\u001b[0m\n\u001b[1;32m--> 111\u001b[1;33m             \u001b[1;32mraise\u001b[0m \u001b[0mValueError\u001b[0m\u001b[1;33m(\u001b[0m\u001b[1;34m\"Input contains NaN\"\u001b[0m\u001b[1;33m)\u001b[0m\u001b[1;33m\u001b[0m\u001b[1;33m\u001b[0m\u001b[0m\n\u001b[0m\u001b[0;32m    112\u001b[0m \u001b[1;33m\u001b[0m\u001b[0m\n\u001b[0;32m    113\u001b[0m \u001b[1;33m\u001b[0m\u001b[0m\n",
      "\u001b[1;31mValueError\u001b[0m: Input contains NaN"
     ]
    }
   ],
   "source": [
    "# Creamos el codificador indicandole el orden de la variables\n",
    "encoder = OrdinalEncoder(categories=[[\"Despejado\", \"Nublado\", \n",
    "                                      \"Lluvia débil\", \"LLuvia intensa\", \"Se desconoce\"]])\n",
    "\n",
    "# Ajustamos el codificador con la variable education y la transformamos\n",
    "encoder.fit(dfBicis[[\"estado_meteorológico\"]])\n",
    "dfBicis[\"estado_meteorológico-encoded\"] = encoder.transform(dfBicis[[\"estado_meteorológico\"]])"
   ]
  },
  {
   "cell_type": "code",
   "execution_count": 82,
   "id": "05c1eaf7",
   "metadata": {},
   "outputs": [
    {
     "data": {
      "text/plain": [
       "Sin asistencia sanitaria                                     3822\n",
       "Asistencia sanitaria sólo en el lugar del accidente          2281\n",
       "Ingreso inferior o igual a 24 horas                           848\n",
       "Atención en urgencias sin posterior ingreso                   644\n",
       "Asistencia sanitaria inmediata en centro de salud o mutua     484\n",
       "Asistencia sanitaria ambulatoria con posterioridad            246\n",
       "Ingreso superior a 24 horas                                   226\n",
       "Fallecido 24 horas                                              8\n",
       "Se desconoce                                                    1\n",
       "Name: lesividad, dtype: int64"
      ]
     },
     "execution_count": 82,
     "metadata": {},
     "output_type": "execute_result"
    }
   ],
   "source": [
    "dfBicis.lesividad.value_counts()"
   ]
  },
  {
   "cell_type": "code",
   "execution_count": null,
   "id": "072f966d",
   "metadata": {},
   "outputs": [],
   "source": []
  }
 ],
 "metadata": {
  "kernelspec": {
   "display_name": "Python 3 (ipykernel)",
   "language": "python",
   "name": "python3"
  },
  "language_info": {
   "codemirror_mode": {
    "name": "ipython",
    "version": 3
   },
   "file_extension": ".py",
   "mimetype": "text/x-python",
   "name": "python",
   "nbconvert_exporter": "python",
   "pygments_lexer": "ipython3",
   "version": "3.9.7"
  }
 },
 "nbformat": 4,
 "nbformat_minor": 5
}
